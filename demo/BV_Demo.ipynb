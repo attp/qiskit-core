{
 "cells": [
  {
   "cell_type": "markdown",
   "metadata": {},
   "source": [
    "## Bernstein-Vazirani Demo"
   ]
  },
  {
   "cell_type": "markdown",
   "metadata": {},
   "source": [
    "### Build and Compile the Circuit"
   ]
  },
  {
   "cell_type": "markdown",
   "metadata": {},
   "source": [
    "<img src='./bv_circuit.png' width=60%>"
   ]
  },
  {
   "cell_type": "code",
   "execution_count": 1,
   "metadata": {
    "collapsed": true,
    "scrolled": true
   },
   "outputs": [],
   "source": [
    "from qiskit import QuantumRegister, ClassicalRegister, QuantumCircuit\n",
    "q = QuantumRegister(4, 'q')\n",
    "tmp = QuantumRegister(1, 'tmp')\n",
    "res = ClassicalRegister(4, 'res')"
   ]
  },
  {
   "cell_type": "code",
   "execution_count": 2,
   "metadata": {
    "collapsed": true
   },
   "outputs": [],
   "source": [
    "# Build oracle. The secret number is represented by integer s.\n",
    "s = 9 # 1001\n",
    "oracle = QuantumCircuit(q, tmp, res)\n",
    "for i in range(len(q)):\n",
    "    if (s & (1 << i)):\n",
    "        oracle.cx(q[i], tmp[0])"
   ]
  },
  {
   "cell_type": "code",
   "execution_count": 3,
   "metadata": {},
   "outputs": [
    {
     "data": {
      "text/plain": [
       "<qiskit._instructionset.InstructionSet at 0x11758a278>"
      ]
     },
     "execution_count": 3,
     "metadata": {},
     "output_type": "execute_result"
    }
   ],
   "source": [
    "# Embed oracle in the larger BV circuit\n",
    "bv = QuantumCircuit(q, tmp, res)\n",
    "bv.x(tmp[0])\n",
    "bv.barrier()\n",
    "bv.h(q)\n",
    "bv.h(tmp)\n",
    "bv.barrier()\n",
    "bv += oracle\n",
    "bv.barrier()\n",
    "bv.h(q)\n",
    "bv.h(tmp)\n",
    "bv.barrier()\n",
    "bv.measure(q, res)"
   ]
  },
  {
   "cell_type": "code",
   "execution_count": 4,
   "metadata": {},
   "outputs": [
    {
     "data": {
      "image/png": "[encoded data removed]",
      "text/plain": [
       "<matplotlib.figure.Figure at 0x11133ab00>"
      ]
     },
     "metadata": {},
     "output_type": "display_data"
    }
   ],
   "source": [
    "%matplotlib inline\n",
    "from qiskit.tools.visualization import circuit_drawer\n",
    "circuit_drawer(bv, output='mpl', scale=0.7)"
   ]
  },
  {
   "cell_type": "markdown",
   "metadata": {},
   "source": [
    "### Execute on a Simulator"
   ]
  },
  {
   "cell_type": "code",
   "execution_count": 5,
   "metadata": {},
   "outputs": [
    {
     "data": {
      "text/plain": [
       "[<QasmSimulator('qasm_simulator') from Aer()>,\n",
       " <QasmSimulatorPy('qasm_simulator_py') from Aer()>,\n",
       " <StatevectorSimulator('statevector_simulator') from Aer()>,\n",
       " <StatevectorSimulatorPy('statevector_simulator_py') from Aer()>,\n",
       " <UnitarySimulator('unitary_simulator') from Aer()>,\n",
       " <CliffordSimulator('clifford_simulator') from Aer()>]"
      ]
     },
     "execution_count": 5,
     "metadata": {},
     "output_type": "execute_result"
    }
   ],
   "source": [
    "# Access local simulators from Qiskit Aer\n",
    "from qiskit import Aer, execute\n",
    "Aer.backends()"
   ]
  },
  {
   "cell_type": "code",
   "execution_count": 6,
   "metadata": {
    "collapsed": true
   },
   "outputs": [],
   "source": [
    "simulator = Aer.get_backend('qasm_simulator')\n",
    "sim_result = execute(bv, simulator).result()"
   ]
  },
  {
   "cell_type": "code",
   "execution_count": 7,
   "metadata": {},
   "outputs": [
    {
     "data": {
      "text/plain": [
       "{'1001': 1024}"
      ]
     },
     "execution_count": 7,
     "metadata": {},
     "output_type": "execute_result"
    }
   ],
   "source": [
    "from qiskit.tools.visualization import plot_histogram\n",
    "sim_counts = sim_result.get_counts()\n",
    "sim_counts"
   ]
  },
  {
   "cell_type": "code",
   "execution_count": 8,
   "metadata": {},
   "outputs": [
    {
     "data": {
      "image/png": "[encoded data removed]",
      "text/plain": [
       "<matplotlib.figure.Figure at 0x118cafe80>"
      ]
     },
     "metadata": {},
     "output_type": "display_data"
    }
   ],
   "source": [
    "plot_histogram(sim_counts)"
   ]
  },
  {
   "cell_type": "markdown",
   "metadata": {},
   "source": [
    "The Bernstein-Vazirani circuit finds the secret bitstring 100% of the time, with just 1 Oracle query."
   ]
  },
  {
   "cell_type": "markdown",
   "metadata": {},
   "source": [
    "### Execute on a Quantum Computer"
   ]
  },
  {
   "cell_type": "code",
   "execution_count": 9,
   "metadata": {},
   "outputs": [
    {
     "data": {
      "text/plain": [
       "[<IBMQBackend('ibmqx4') from IBMQ()>,\n",
       " <IBMQBackend('ibmqx5') from IBMQ()>,\n",
       " <IBMQBackend('ibmqx2') from IBMQ()>,\n",
       " <IBMQBackend('ibmq_16_melbourne') from IBMQ()>,\n",
       " <IBMQBackend('ibmq_qasm_simulator') from IBMQ()>]"
      ]
     },
     "execution_count": 9,
     "metadata": {},
     "output_type": "execute_result"
    }
   ],
   "source": [
    "# authenticate to use IBMQ remote backends \n",
    "from qiskit import IBMQ\n",
    "IBMQ.load_accounts()\n",
    "IBMQ.backends()"
   ]
  },
  {
   "cell_type": "code",
   "execution_count": 10,
   "metadata": {
    "collapsed": true
   },
   "outputs": [],
   "source": [
    "# let's choose a 5-qubit device and execute\n",
    "device = IBMQ.get_backend('ibmq_5_tenerife')"
   ]
  },
  {
   "cell_type": "code",
   "execution_count": 11,
   "metadata": {
    "collapsed": true
   },
   "outputs": [],
   "source": [
    "# import jupyter magic tools to ease tracking of submitted job's progress\n",
    "from qiskit.wrapper.jupyter import *"
   ]
  },
  {
   "cell_type": "code",
   "execution_count": null,
   "metadata": {},
   "outputs": [
    {
     "data": {
      "application/vnd.jupyter.widget-view+json": {
       "model_id": "c8b5353212874b7682fa004cb3c55c6f",
       "version_major": 2,
       "version_minor": 0
      },
      "text/plain": [
       "A Jupyter Widget"
      ]
     },
     "metadata": {},
     "output_type": "display_data"
    }
   ],
   "source": [
    "%%qiskit_job_status\n",
    "\n",
    "# qiskit jobs are submitted asynchronously. You can monitor a submitted job's status\n",
    "job = execute(bv, device, shots=1024)"
   ]
  },
  {
   "cell_type": "code",
   "execution_count": null,
   "metadata": {},
   "outputs": [
    {
     "name": "stderr",
     "output_type": "stream",
     "text": [
      "Got a 500 code response to https://quantumexperience.ng.bluemix.net/api/Jobs/5bd0959b48034200622064f4/status?access_token=bisuutI5ZFshFvSf6v62ZZqtvG8AZJkLq5Ijw6CsUr0DvAyCNZ3PPDaOspBFa4EK: 500 Error: Failed to establish a backside connection\n",
      "Got a 502 code response to https://quantumexperience.ng.bluemix.net/api/Jobs/5bd0959b48034200622064f4/status?access_token=bisuutI5ZFshFvSf6v62ZZqtvG8AZJkLq5Ijw6CsUr0DvAyCNZ3PPDaOspBFa4EK: 502 Bad Gateway: Registered endpoint failed to handle the request.\n",
      "\n",
      "Exception in thread Thread-4:\n",
      "Traceback (most recent call last):\n",
      "  File \"/anaconda3/lib/python3.6/site-packages/urllib3/connection.py\", line 141, in _new_conn\n",
      "    (self.host, self.port), self.timeout, **extra_kw)\n",
      "  File \"/anaconda3/lib/python3.6/site-packages/urllib3/util/connection.py\", line 83, in create_connection\n",
      "    raise err\n",
      "  File \"/anaconda3/lib/python3.6/site-packages/urllib3/util/connection.py\", line 73, in create_connection\n",
      "    sock.connect(sa)\n",
      "TimeoutError: [Errno 60] Operation timed out\n",
      "\n",
      "During handling of the above exception, another exception occurred:\n",
      "\n",
      "Traceback (most recent call last):\n",
      "  File \"/anaconda3/lib/python3.6/site-packages/urllib3/connectionpool.py\", line 601, in urlopen\n",
      "    chunked=chunked)\n",
      "  File \"/anaconda3/lib/python3.6/site-packages/urllib3/connectionpool.py\", line 346, in _make_request\n",
      "    self._validate_conn(conn)\n",
      "  File \"/anaconda3/lib/python3.6/site-packages/urllib3/connectionpool.py\", line 850, in _validate_conn\n",
      "    conn.connect()\n",
      "  File \"/anaconda3/lib/python3.6/site-packages/urllib3/connection.py\", line 284, in connect\n",
      "    conn = self._new_conn()\n",
      "  File \"/anaconda3/lib/python3.6/site-packages/urllib3/connection.py\", line 150, in _new_conn\n",
      "    self, \"Failed to establish a new connection: %s\" % e)\n",
      "urllib3.exceptions.NewConnectionError: <urllib3.connection.VerifiedHTTPSConnection object at 0x11b5beac8>: Failed to establish a new connection: [Errno 60] Operation timed out\n",
      "\n",
      "During handling of the above exception, another exception occurred:\n",
      "\n",
      "Traceback (most recent call last):\n",
      "  File \"/anaconda3/lib/python3.6/site-packages/requests/adapters.py\", line 440, in send\n",
      "    timeout=timeout\n",
      "  File \"/anaconda3/lib/python3.6/site-packages/urllib3/connectionpool.py\", line 639, in urlopen\n",
      "    _stacktrace=sys.exc_info()[2])\n",
      "  File \"/anaconda3/lib/python3.6/site-packages/urllib3/util/retry.py\", line 388, in increment\n",
      "    raise MaxRetryError(_pool, url, error or ResponseError(cause))\n",
      "urllib3.exceptions.MaxRetryError: HTTPSConnectionPool(host='quantumexperience.ng.bluemix.net', port=443): Max retries exceeded with url: /api/Jobs/5bd0959b48034200622064f4/status?access_token=bisuutI5ZFshFvSf6v62ZZqtvG8AZJkLq5Ijw6CsUr0DvAyCNZ3PPDaOspBFa4EK (Caused by NewConnectionError('<urllib3.connection.VerifiedHTTPSConnection object at 0x11b5beac8>: Failed to establish a new connection: [Errno 60] Operation timed out',))\n",
      "\n",
      "During handling of the above exception, another exception occurred:\n",
      "\n",
      "Traceback (most recent call last):\n",
      "  File \"/Users/alijavadi/Desktop/ajavadia-terra/qiskit/backends/ibmq/ibmqjob.py\", line 279, in status\n",
      "    api_job = self._api.get_status_job(self._job_id)\n",
      "  File \"/anaconda3/lib/python3.6/site-packages/IBMQuantumExperience/IBMQuantumExperience.py\", line 826, in get_status_job\n",
      "    status = self.req.get(url)\n",
      "  File \"/anaconda3/lib/python3.6/site-packages/IBMQuantumExperience/IBMQuantumExperience.py\", line 354, in get\n",
      "    **self.extra_args)\n",
      "  File \"/anaconda3/lib/python3.6/site-packages/requests/api.py\", line 72, in get\n",
      "    return request('get', url, params=params, **kwargs)\n",
      "  File \"/anaconda3/lib/python3.6/site-packages/requests/api.py\", line 58, in request\n",
      "    return session.request(method=method, url=url, **kwargs)\n",
      "  File \"/anaconda3/lib/python3.6/site-packages/requests/sessions.py\", line 508, in request\n",
      "    resp = self.send(prep, **send_kwargs)\n",
      "  File \"/anaconda3/lib/python3.6/site-packages/requests/sessions.py\", line 618, in send\n",
      "    r = adapter.send(request, **kwargs)\n",
      "  File \"/anaconda3/lib/python3.6/site-packages/requests/adapters.py\", line 508, in send\n",
      "    raise ConnectionError(e, request=request)\n",
      "requests.exceptions.ConnectionError: HTTPSConnectionPool(host='quantumexperience.ng.bluemix.net', port=443): Max retries exceeded with url: /api/Jobs/5bd0959b48034200622064f4/status?access_token=bisuutI5ZFshFvSf6v62ZZqtvG8AZJkLq5Ijw6CsUr0DvAyCNZ3PPDaOspBFa4EK (Caused by NewConnectionError('<urllib3.connection.VerifiedHTTPSConnection object at 0x11b5beac8>: Failed to establish a new connection: [Errno 60] Operation timed out',))\n",
      "\n",
      "During handling of the above exception, another exception occurred:\n",
      "\n",
      "Traceback (most recent call last):\n",
      "  File \"/anaconda3/lib/python3.6/threading.py\", line 916, in _bootstrap_inner\n",
      "    self.run()\n",
      "  File \"/anaconda3/lib/python3.6/threading.py\", line 864, in run\n",
      "    self._target(*self._args, **self._kwargs)\n",
      "  File \"/Users/alijavadi/Desktop/ajavadia-terra/qiskit/wrapper/jupyter/jupyter_magics.py\", line 87, in _checker\n",
      "    job_status = job_var.status()\n",
      "  File \"/Users/alijavadi/Desktop/ajavadia-terra/qiskit/backends/ibmq/ibmqjob.py\", line 285, in status\n",
      "    raise JobError(str(err))\n",
      "qiskit.backends.joberror.JobError: \"HTTPSConnectionPool(host='quantumexperience.ng.bluemix.net', port=443): Max retries exceeded with url: /api/Jobs/5bd0959b48034200622064f4/status?access_token=bisuutI5ZFshFvSf6v62ZZqtvG8AZJkLq5Ijw6CsUr0DvAyCNZ3PPDaOspBFa4EK (Caused by NewConnectionError('<urllib3.connection.VerifiedHTTPSConnection object at 0x11b5beac8>: Failed to establish a new connection: [Errno 60] Operation timed out',))\"\n",
      "\n"
     ]
    }
   ],
   "source": [
    "# NOTICE! Executing this cell will block until result is available\n",
    "device_result = job.result()\n",
    "device_counts = device_result.get_counts()\n",
    "plot_histogram(device_counts)"
   ]
  },
  {
   "cell_type": "markdown",
   "metadata": {},
   "source": [
    "Real devices are noisy. We repeat the experiment for 1000 shots to find the correct answer among the noise."
   ]
  },
  {
   "cell_type": "markdown",
   "metadata": {},
   "source": [
    "### [Optional] Effect of Compilation on Solution"
   ]
  },
  {
   "cell_type": "markdown",
   "metadata": {},
   "source": [
    "Our circuit does not conform to the topology of our device as-is. Therefore, the compiler must rewrite the circuit to satisfy the device's connectivity constraints:\n",
    "\n",
    "<img src='./ibmqx4-connections_1pt2pt0.png' width=20%>\n",
    "\n",
    "As you will see here, the optimality of the compiler can have a large impact on result fidelity."
   ]
  },
  {
   "cell_type": "code",
   "execution_count": null,
   "metadata": {
    "collapsed": true
   },
   "outputs": [],
   "source": [
    "# what does Qiskit's compiled circuit look like?\n",
    "from qiskit import qobj_to_circuits\n",
    "qobj_0 = compile(bv, device)\n",
    "compiled_circ_0 = qobj_to_circuits(qobj_0)[0]\n",
    "circuit_drawer(compiled_circ_0, scale=0.3)"
   ]
  },
  {
   "cell_type": "code",
   "execution_count": null,
   "metadata": {
    "collapsed": true,
    "scrolled": true
   },
   "outputs": [],
   "source": [
    "# force Qiskit to compile differently\n",
    "initial_layout = {('q', 0):('q', 3), ('q', 1):('q', 2), ('q', 2):('q', 4), ('q', 3):('q', 0), ('tmp', 0):('q', 1)}\n",
    "qobj_1 = compile(bv_circ, device, initial_layout=initial_layout)\n",
    "compiled_circ_1 = qobj_to_circuits(qobj_1)[0]\n",
    "circuit_drawer(compiled_circ_1, scale=.3)"
   ]
  },
  {
   "cell_type": "code",
   "execution_count": null,
   "metadata": {
    "collapsed": true
   },
   "outputs": [],
   "source": [
    "%%qiskit_job_status\n",
    "\n",
    "# run the latter circuit. \n",
    "# compare with the original run to see effect of compilation on result fidelity.\n",
    "job = execute(compiled_circ_1, device)"
   ]
  },
  {
   "cell_type": "code",
   "execution_count": null,
   "metadata": {
    "collapsed": true
   },
   "outputs": [],
   "source": [
    "device_result = job.result()\n",
    "device_counts = device_result.get_counts()\n",
    "plot_histogram(device_counts)"
   ]
  }
 ],
 "metadata": {
  "kernelspec": {
   "display_name": "Python 3",
   "language": "python",
   "name": "python3"
  },
  "language_info": {
   "codemirror_mode": {
    "name": "ipython",
    "version": 3
   },
   "file_extension": ".py",
   "mimetype": "text/x-python",
   "name": "python",
   "nbconvert_exporter": "python",
   "pygments_lexer": "ipython3",
   "version": "3.6.3"
  }
 },
 "nbformat": 4,
 "nbformat_minor": 2
}
