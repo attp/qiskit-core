{
 "cells": [
  {
   "cell_type": "markdown",
   "metadata": {},
   "source": [
    "# Supervised Classification with Quantum-Enhanced Support Vector Machines"
   ]
  },
  {
   "cell_type": "markdown",
   "metadata": {},
   "source": [
    "## Introduction\n",
    "Classification algorithms and methods for machine learning are essential for pattern recognition and data mining applications. Well known techniques such as support vector machines and neural networks have blossomed over the last two decades as a result of the spectacular advances in classical hardware computational capabilities and speed. This progress in computer power made it possible to apply techniques, that were theoretically developed towards the middle of the 20th century, on classification problems that were becoming increasingly challenging.\n",
    "\n",
    "A key concept in classification methods is that of a kernel. Data cannot typically be separated by a hyperplane in its original space. A common technique used to find such a hyperplane consists on applying a non-linear transformation function to the data. This function is called a feature map, as it transforms the raw features, or measurable properties, of the phenomenon or subject under study. Classifying in this new feature space -and, as a matter of fact, also in any other space, including the raw original one- is nothing more than seeing how close data points are to each other. This is the same as computing the inner product for each pair of data in the set. So, in fact we do not need to compute the non-linear feature map for each datum, but only the inner product of each pair of data points in the new feature space. This collection of inner products is called the kernel and it is perfectly possible to have feature maps that are hard to compute but whose kernels are not.\n",
    "\n",
    "In this notebook we provide an example of a classification problem that requires a feature map for which computing the kernel is not efficient classically -this means that the required computational resources are expected to scale exponentially with the size of the problem. We show how this can be solved in a quantum processor by a direct estimation of the kernel in the feature space. The method we used falls in the category of what is called supervised learning, consisting of a training phase (where the kernel is calculated and the support vectors obtained) and a test or classification phase (where new unlabelled data is classified according to the solution found in the training phase).\n",
    "\n",
    "References and additional details:\n",
    "\n",
    "[1] Vojtech Havlicek, Antonio D. Córcoles, Kristan Temme, Aram W. Harrow, Abhinav Kandala, Jerry M. Chow, and Jay M. Gambetta1, \"Supervised learning with quantum enhanced feature spaces,\" [arXiv: 1804.11326](https://arxiv.org/pdf/1804.11326.pdf)"
   ]
  },
  {
   "cell_type": "markdown",
   "metadata": {},
   "source": [
    "## 1. Synthetic Dataset"
   ]
  },
  {
   "cell_type": "markdown",
   "metadata": {},
   "source": [
    "In the first section, we prepare a synthetic dataset, which is used for training, testing and the final prediction.\n",
    "\n",
    "You can easily switch to a different dataset, such as the Breast Cancer dataset, by replacing 'ad_hoc_data' to 'Breast_cancer' below."
   ]
  },
  {
   "cell_type": "markdown",
   "metadata": {},
   "source": [
    "### 1. (a) Construct Synthetic Dataset"
   ]
  },
  {
   "cell_type": "code",
   "execution_count": 1,
   "metadata": {
    "collapsed": true
   },
   "outputs": [],
   "source": [
    "from AI_qsvm_datasets import *\n",
    "from qiskit_aqua.utils import split_dataset_to_data_and_labels, map_label_to_class_name\n",
    "from qiskit_aqua.input import get_input_instance\n",
    "from qiskit_aqua import run_algorithm\n",
    "\n",
    "import logging\n",
    "from qiskit_aqua._logging import set_logging_config, build_logging_config\n",
    "set_logging_config(build_logging_config(logging.DEBUG))  # choose INFO, DEBUG to see the log"
   ]
  },
  {
   "cell_type": "code",
   "execution_count": 2,
   "metadata": {
    "collapsed": true,
    "scrolled": false
   },
   "outputs": [],
   "source": [
    "feature_dim = 2\n",
    "sample_Total, training_input, test_input, class_labels = ad_hoc_data(\n",
    "    training_size=20, test_size=10, n=feature_dim, gap=0.3, PLOT_DATA=False)"
   ]
  },
  {
   "cell_type": "code",
   "execution_count": 3,
   "metadata": {},
   "outputs": [
    {
     "data": {
      "text/plain": [
       "<matplotlib.image.AxesImage at 0x10fa72668>"
      ]
     },
     "execution_count": 3,
     "metadata": {},
     "output_type": "execute_result"
    },
    {
     "data": {
      "image/png": "[encoded data removed]",
      "text/plain": [
       "<matplotlib.figure.Figure at 0x10f96f630>"
      ]
     },
     "metadata": {},
     "output_type": "display_data"
    }
   ],
   "source": [
    "%matplotlib inline\n",
    "plt.xlim(0, 2*np.pi)\n",
    "plt.ylim(0, 2*np.pi)\n",
    "plt.scatter(training_input['A'][:,0], training_input['A'][:,1], c='r')\n",
    "plt.scatter(training_input['B'][:,0], training_input['B'][:,1], c='g')\n",
    "plt.imshow(np.asmatrix(sample_Total).T, interpolation='nearest',\n",
    "           cmap='BrBG', extent=[0, 2*np.pi, 2*np.pi, 0])"
   ]
  },
  {
   "cell_type": "markdown",
   "metadata": {},
   "source": [
    "With the dataset ready we begin using Qiskit Aqua to train a quantum SVM."
   ]
  },
  {
   "cell_type": "markdown",
   "metadata": {},
   "source": [
    "### 1. (b) Select Feature Map and See Associated Circuit"
   ]
  },
  {
   "cell_type": "code",
   "execution_count": 4,
   "metadata": {
    "scrolled": true
   },
   "outputs": [
    {
     "name": "stderr",
     "output_type": "stream",
     "text": [
      "2018-11-12 14:53:04,591:qiskit_aqua.algorithms.components.feature_maps.pauli_expansion:INFO: Pauli terms include: ['ZI', 'IZ', 'ZZ']\n"
     ]
    }
   ],
   "source": [
    "# the feature map: IZ, ZI, ZZ\n",
    "from qiskit_aqua.algorithms.components.feature_maps.second_order_expansion import SecondOrderExpansion\n",
    "feature_map = SecondOrderExpansion()\n",
    "feature_map.init_args(num_qubits=2, depth=2, entanglement='linear')"
   ]
  },
  {
   "cell_type": "code",
   "execution_count": 6,
   "metadata": {},
   "outputs": [
    {
     "data": {
      "image/png": "[encoded data removed]",
      "text/plain": [
       "<matplotlib.figure.Figure at 0x10fa3f470>"
      ]
     },
     "metadata": {},
     "output_type": "display_data"
    }
   ],
   "source": [
    "# see the actual circuits\n",
    "datapoints, class_to_label = split_dataset_to_data_and_labels(training_input)\n",
    "circuit = feature_map.construct_circuit(datapoints[0][0])\n",
    "from qiskit.tools.visualization import *\n",
    "circuit_drawer(circuit, output='mpl')"
   ]
  },
  {
   "cell_type": "markdown",
   "metadata": {},
   "source": [
    "### 1. (c) Build SVM Algorithm"
   ]
  },
  {
   "cell_type": "code",
   "execution_count": 7,
   "metadata": {},
   "outputs": [
    {
     "name": "stderr",
     "output_type": "stream",
     "text": [
      "2018-11-12 14:54:12,983:qiskit_aqua.quantumalgorithm:INFO: Qiskit Terra version 0.7.0\n",
      "2018-11-12 14:54:12,985:qiskit_aqua.quantumalgorithm:INFO: Algorithm: 'QSVM.Kernel' setup with backend 'qasm_simulator', with following setting:\n",
      " {'shots': 1024, 'skip_transpiler': False, 'config': {'noise_params': None}, 'basis_gates': 'u0,u1,u2,u3,cx,cz,id,x,y,z,h,s,sdg,t,tdg,rzz,snapshot,wait,noise,save,load', 'coupling_map': 'all-to-all', 'initial_layout': None, 'max_credits': 10, 'seed': None, 'qobj_id': None, 'hpc': None}\n",
      "{'timeout': None}\n"
     ]
    }
   ],
   "source": [
    "# the algorithm: QSVM_Kernel\n",
    "from qiskit_aqua.algorithms.many_sample.qsvm.qsvm_kernel import QSVM_Kernel\n",
    "from qiskit.backends.aer import QasmSimulator\n",
    "simulator = QasmSimulator()\n",
    "algorithm = QSVM_Kernel()\n",
    "algorithm.setup_quantum_backend(backend=simulator)\n",
    "algorithm.init_args(training_dataset=training_input,\n",
    "                    test_dataset=None,\n",
    "                    datapoints=None,\n",
    "                    feature_map=feature_map)\n",
    "algorithm.enable_circuit_summary()"
   ]
  },
  {
   "cell_type": "markdown",
   "metadata": {},
   "source": [
    "### 1. (d) Train SVM"
   ]
  },
  {
   "cell_type": "code",
   "execution_count": 8,
   "metadata": {
    "scrolled": true
   },
   "outputs": [
    {
     "name": "stderr",
     "output_type": "stream",
     "text": [
      "2018-11-12 14:54:39,993:qiskit_aqua.utils.run_circuits:DEBUG: Submitting 780 circuits.\n",
      "============================================================================\n",
      "0-th circuit: 2 qubits, 2 classical bits and 31 operations with depth 22\n",
      "1-th circuit: 2 qubits, 2 classical bits and 31 operations with depth 22\n",
      "2-th circuit: 2 qubits, 2 classical bits and 31 operations with depth 22\n",
      "3-th circuit: 2 qubits, 2 classical bits and 31 operations with depth 22\n",
      "4-th circuit: 2 qubits, 2 classical bits and 31 operations with depth 22\n",
      "5-th circuit: 2 qubits, 2 classical bits and 31 operations with depth 22\n",
      "6-th circuit: 2 qubits, 2 classical bits and 31 operations with depth 22\n",
      "7-th circuit: 2 qubits, 2 classical bits and 31 operations with depth 22\n",
      "8-th circuit: 2 qubits, 2 classical bits and 31 operations with depth 22\n",
      "9-th circuit: 2 qubits, 2 classical bits and 31 operations with depth 22\n",
      "10-th circuit: 2 qubits, 2 classical bits and 31 operations with depth 22\n",
      "11-th circuit: 2 qubits, 2 classical bits and 31 operations with depth 22\n",
      "12-th circuit: 2 qubits, 2 classical bits and 31 operations with depth 22\n",
      "13-th circuit: 2 qubits, 2 classical bits and 31 operations with depth 22\n",
      "14-th circuit: 2 qubits, 2 classical bits and 31 operations with depth 22\n",
      "15-th circuit: 2 qubits, 2 classical bits and 31 operations with depth 22\n",
      "16-th circuit: 2 qubits, 2 classical bits and 31 operations with depth 22\n",
      "17-th circuit: 2 qubits, 2 classical bits and 31 operations with depth 22\n",
      "18-th circuit: 2 qubits, 2 classical bits and 31 operations with depth 22\n",
      "19-th circuit: 2 qubits, 2 classical bits and 31 operations with depth 22\n",
      "20-th circuit: 2 qubits, 2 classical bits and 31 operations with depth 22\n",
      "21-th circuit: 2 qubits, 2 classical bits and 31 operations with depth 22\n",
      "22-th circuit: 2 qubits, 2 classical bits and 31 operations with depth 22\n",
      "23-th circuit: 2 qubits, 2 classical bits and 31 operations with depth 22\n",
      "24-th circuit: 2 qubits, 2 classical bits and 31 operations with depth 22\n",
      "25-th circuit: 2 qubits, 2 classical bits and 31 operations with depth 22\n",
      "26-th circuit: 2 qubits, 2 classical bits and 31 operations with depth 22\n",
      "27-th circuit: 2 qubits, 2 classical bits and 31 operations with depth 22\n",
      "28-th circuit: 2 qubits, 2 classical bits and 31 operations with depth 22\n",
      "29-th circuit: 2 qubits, 2 classical bits and 31 operations with depth 22\n",
      "30-th circuit: 2 qubits, 2 classical bits and 31 operations with depth 22\n",
      "31-th circuit: 2 qubits, 2 classical bits and 31 operations with depth 22\n",
      "32-th circuit: 2 qubits, 2 classical bits and 31 operations with depth 22\n",
      "33-th circuit: 2 qubits, 2 classical bits and 31 operations with depth 22\n",
      "34-th circuit: 2 qubits, 2 classical bits and 31 operations with depth 22\n",
      "35-th circuit: 2 qubits, 2 classical bits and 31 operations with depth 22\n",
      "36-th circuit: 2 qubits, 2 classical bits and 31 operations with depth 22\n",
      "37-th circuit: 2 qubits, 2 classical bits and 31 operations with depth 22\n",
      "38-th circuit: 2 qubits, 2 classical bits and 31 operations with depth 22\n",
      "39-th circuit: 2 qubits, 2 classical bits and 31 operations with depth 22\n",
      "40-th circuit: 2 qubits, 2 classical bits and 31 operations with depth 22\n",
      "41-th circuit: 2 qubits, 2 classical bits and 31 operations with depth 22\n",
      "42-th circuit: 2 qubits, 2 classical bits and 31 operations with depth 22\n",
      "43-th circuit: 2 qubits, 2 classical bits and 31 operations with depth 22\n",
      "44-th circuit: 2 qubits, 2 classical bits and 31 operations with depth 22\n",
      "45-th circuit: 2 qubits, 2 classical bits and 31 operations with depth 22\n",
      "46-th circuit: 2 qubits, 2 classical bits and 31 operations with depth 22\n",
      "47-th circuit: 2 qubits, 2 classical bits and 31 operations with depth 22\n",
      "48-th circuit: 2 qubits, 2 classical bits and 31 operations with depth 22\n",
      "49-th circuit: 2 qubits, 2 classical bits and 31 operations with depth 22\n",
      "50-th circuit: 2 qubits, 2 classical bits and 31 operations with depth 22\n",
      "51-th circuit: 2 qubits, 2 classical bits and 31 operations with depth 22\n",
      "52-th circuit: 2 qubits, 2 classical bits and 31 operations with depth 22\n",
      "53-th circuit: 2 qubits, 2 classical bits and 31 operations with depth 22\n",
      "54-th circuit: 2 qubits, 2 classical bits and 31 operations with depth 22\n",
      "55-th circuit: 2 qubits, 2 classical bits and 31 operations with depth 22\n",
      "56-th circuit: 2 qubits, 2 classical bits and 31 operations with depth 22\n",
      "57-th circuit: 2 qubits, 2 classical bits and 31 operations with depth 22\n",
      "58-th circuit: 2 qubits, 2 classical bits and 31 operations with depth 22\n",
      "59-th circuit: 2 qubits, 2 classical bits and 31 operations with depth 22\n",
      "60-th circuit: 2 qubits, 2 classical bits and 31 operations with depth 22\n",
      "61-th circuit: 2 qubits, 2 classical bits and 31 operations with depth 22\n",
      "62-th circuit: 2 qubits, 2 classical bits and 31 operations with depth 22\n",
      "63-th circuit: 2 qubits, 2 classical bits and 31 operations with depth 22\n",
      "64-th circuit: 2 qubits, 2 classical bits and 31 operations with depth 22\n",
      "65-th circuit: 2 qubits, 2 classical bits and 31 operations with depth 22\n",
      "66-th circuit: 2 qubits, 2 classical bits and 31 operations with depth 22\n",
      "67-th circuit: 2 qubits, 2 classical bits and 31 operations with depth 22\n",
      "68-th circuit: 2 qubits, 2 classical bits and 31 operations with depth 22\n",
      "69-th circuit: 2 qubits, 2 classical bits and 31 operations with depth 22\n",
      "70-th circuit: 2 qubits, 2 classical bits and 31 operations with depth 22\n",
      "71-th circuit: 2 qubits, 2 classical bits and 31 operations with depth 22\n",
      "72-th circuit: 2 qubits, 2 classical bits and 31 operations with depth 22\n",
      "73-th circuit: 2 qubits, 2 classical bits and 31 operations with depth 22\n",
      "74-th circuit: 2 qubits, 2 classical bits and 31 operations with depth 22\n",
      "75-th circuit: 2 qubits, 2 classical bits and 31 operations with depth 22\n",
      "76-th circuit: 2 qubits, 2 classical bits and 31 operations with depth 22\n",
      "77-th circuit: 2 qubits, 2 classical bits and 31 operations with depth 22\n",
      "78-th circuit: 2 qubits, 2 classical bits and 31 operations with depth 22\n",
      "79-th circuit: 2 qubits, 2 classical bits and 31 operations with depth 22\n",
      "80-th circuit: 2 qubits, 2 classical bits and 31 operations with depth 22\n",
      "81-th circuit: 2 qubits, 2 classical bits and 31 operations with depth 22\n",
      "82-th circuit: 2 qubits, 2 classical bits and 31 operations with depth 22\n",
      "83-th circuit: 2 qubits, 2 classical bits and 31 operations with depth 22\n",
      "84-th circuit: 2 qubits, 2 classical bits and 31 operations with depth 22\n",
      "85-th circuit: 2 qubits, 2 classical bits and 31 operations with depth 22\n",
      "86-th circuit: 2 qubits, 2 classical bits and 31 operations with depth 22\n",
      "87-th circuit: 2 qubits, 2 classical bits and 31 operations with depth 22\n",
      "88-th circuit: 2 qubits, 2 classical bits and 31 operations with depth 22\n",
      "89-th circuit: 2 qubits, 2 classical bits and 31 operations with depth 22\n",
      "90-th circuit: 2 qubits, 2 classical bits and 31 operations with depth 22\n",
      "91-th circuit: 2 qubits, 2 classical bits and 31 operations with depth 22\n",
      "92-th circuit: 2 qubits, 2 classical bits and 31 operations with depth 22\n",
      "93-th circuit: 2 qubits, 2 classical bits and 31 operations with depth 22\n",
      "94-th circuit: 2 qubits, 2 classical bits and 31 operations with depth 22\n",
      "95-th circuit: 2 qubits, 2 classical bits and 31 operations with depth 22\n",
      "96-th circuit: 2 qubits, 2 classical bits and 31 operations with depth 22\n",
      "97-th circuit: 2 qubits, 2 classical bits and 31 operations with depth 22\n",
      "98-th circuit: 2 qubits, 2 classical bits and 31 operations with depth 22\n",
      "99-th circuit: 2 qubits, 2 classical bits and 31 operations with depth 22\n",
      "100-th circuit: 2 qubits, 2 classical bits and 31 operations with depth 22\n",
      "101-th circuit: 2 qubits, 2 classical bits and 31 operations with depth 22\n",
      "102-th circuit: 2 qubits, 2 classical bits and 31 operations with depth 22\n",
      "103-th circuit: 2 qubits, 2 classical bits and 31 operations with depth 22\n",
      "104-th circuit: 2 qubits, 2 classical bits and 31 operations with depth 22\n",
      "105-th circuit: 2 qubits, 2 classical bits and 31 operations with depth 22\n",
      "106-th circuit: 2 qubits, 2 classical bits and 31 operations with depth 22\n",
      "107-th circuit: 2 qubits, 2 classical bits and 31 operations with depth 22\n",
      "108-th circuit: 2 qubits, 2 classical bits and 31 operations with depth 22\n",
      "109-th circuit: 2 qubits, 2 classical bits and 31 operations with depth 22\n",
      "110-th circuit: 2 qubits, 2 classical bits and 31 operations with depth 22\n",
      "111-th circuit: 2 qubits, 2 classical bits and 31 operations with depth 22\n",
      "112-th circuit: 2 qubits, 2 classical bits and 31 operations with depth 22\n",
      "113-th circuit: 2 qubits, 2 classical bits and 31 operations with depth 22\n",
      "114-th circuit: 2 qubits, 2 classical bits and 31 operations with depth 22\n",
      "115-th circuit: 2 qubits, 2 classical bits and 31 operations with depth 22\n",
      "116-th circuit: 2 qubits, 2 classical bits and 31 operations with depth 22\n",
      "117-th circuit: 2 qubits, 2 classical bits and 31 operations with depth 22\n",
      "118-th circuit: 2 qubits, 2 classical bits and 31 operations with depth 22\n",
      "119-th circuit: 2 qubits, 2 classical bits and 31 operations with depth 22\n",
      "120-th circuit: 2 qubits, 2 classical bits and 31 operations with depth 22\n",
      "121-th circuit: 2 qubits, 2 classical bits and 31 operations with depth 22\n",
      "122-th circuit: 2 qubits, 2 classical bits and 31 operations with depth 22\n",
      "123-th circuit: 2 qubits, 2 classical bits and 31 operations with depth 22\n",
      "124-th circuit: 2 qubits, 2 classical bits and 31 operations with depth 22\n",
      "125-th circuit: 2 qubits, 2 classical bits and 31 operations with depth 22\n",
      "126-th circuit: 2 qubits, 2 classical bits and 31 operations with depth 22\n",
      "127-th circuit: 2 qubits, 2 classical bits and 31 operations with depth 22\n",
      "128-th circuit: 2 qubits, 2 classical bits and 31 operations with depth 22\n",
      "129-th circuit: 2 qubits, 2 classical bits and 31 operations with depth 22\n",
      "130-th circuit: 2 qubits, 2 classical bits and 31 operations with depth 22\n",
      "131-th circuit: 2 qubits, 2 classical bits and 31 operations with depth 22\n",
      "132-th circuit: 2 qubits, 2 classical bits and 31 operations with depth 22\n",
      "133-th circuit: 2 qubits, 2 classical bits and 31 operations with depth 22\n",
      "134-th circuit: 2 qubits, 2 classical bits and 31 operations with depth 22\n",
      "135-th circuit: 2 qubits, 2 classical bits and 31 operations with depth 22\n",
      "136-th circuit: 2 qubits, 2 classical bits and 31 operations with depth 22\n",
      "137-th circuit: 2 qubits, 2 classical bits and 31 operations with depth 22\n",
      "138-th circuit: 2 qubits, 2 classical bits and 31 operations with depth 22\n",
      "139-th circuit: 2 qubits, 2 classical bits and 31 operations with depth 22\n",
      "140-th circuit: 2 qubits, 2 classical bits and 31 operations with depth 22\n",
      "141-th circuit: 2 qubits, 2 classical bits and 31 operations with depth 22\n",
      "142-th circuit: 2 qubits, 2 classical bits and 31 operations with depth 22\n",
      "143-th circuit: 2 qubits, 2 classical bits and 31 operations with depth 22\n",
      "144-th circuit: 2 qubits, 2 classical bits and 31 operations with depth 22\n",
      "145-th circuit: 2 qubits, 2 classical bits and 31 operations with depth 22\n",
      "146-th circuit: 2 qubits, 2 classical bits and 31 operations with depth 22\n",
      "147-th circuit: 2 qubits, 2 classical bits and 31 operations with depth 22\n",
      "148-th circuit: 2 qubits, 2 classical bits and 31 operations with depth 22\n",
      "149-th circuit: 2 qubits, 2 classical bits and 31 operations with depth 22\n",
      "150-th circuit: 2 qubits, 2 classical bits and 31 operations with depth 22\n",
      "151-th circuit: 2 qubits, 2 classical bits and 31 operations with depth 22\n",
      "152-th circuit: 2 qubits, 2 classical bits and 31 operations with depth 22\n",
      "153-th circuit: 2 qubits, 2 classical bits and 31 operations with depth 22\n",
      "154-th circuit: 2 qubits, 2 classical bits and 31 operations with depth 22\n",
      "155-th circuit: 2 qubits, 2 classical bits and 31 operations with depth 22\n",
      "156-th circuit: 2 qubits, 2 classical bits and 31 operations with depth 22\n",
      "157-th circuit: 2 qubits, 2 classical bits and 31 operations with depth 22\n",
      "158-th circuit: 2 qubits, 2 classical bits and 31 operations with depth 22\n",
      "159-th circuit: 2 qubits, 2 classical bits and 31 operations with depth 22\n",
      "160-th circuit: 2 qubits, 2 classical bits and 31 operations with depth 22\n",
      "161-th circuit: 2 qubits, 2 classical bits and 31 operations with depth 22\n",
      "162-th circuit: 2 qubits, 2 classical bits and 31 operations with depth 22\n",
      "163-th circuit: 2 qubits, 2 classical bits and 31 operations with depth 22\n",
      "164-th circuit: 2 qubits, 2 classical bits and 31 operations with depth 22\n",
      "165-th circuit: 2 qubits, 2 classical bits and 31 operations with depth 22\n",
      "166-th circuit: 2 qubits, 2 classical bits and 31 operations with depth 22\n",
      "167-th circuit: 2 qubits, 2 classical bits and 31 operations with depth 22\n",
      "168-th circuit: 2 qubits, 2 classical bits and 31 operations with depth 22\n",
      "169-th circuit: 2 qubits, 2 classical bits and 31 operations with depth 22\n",
      "170-th circuit: 2 qubits, 2 classical bits and 31 operations with depth 22\n",
      "171-th circuit: 2 qubits, 2 classical bits and 31 operations with depth 22\n",
      "172-th circuit: 2 qubits, 2 classical bits and 31 operations with depth 22\n",
      "173-th circuit: 2 qubits, 2 classical bits and 31 operations with depth 22\n",
      "174-th circuit: 2 qubits, 2 classical bits and 31 operations with depth 22\n",
      "175-th circuit: 2 qubits, 2 classical bits and 31 operations with depth 22\n",
      "176-th circuit: 2 qubits, 2 classical bits and 31 operations with depth 22\n",
      "177-th circuit: 2 qubits, 2 classical bits and 31 operations with depth 22\n",
      "178-th circuit: 2 qubits, 2 classical bits and 31 operations with depth 22\n",
      "179-th circuit: 2 qubits, 2 classical bits and 31 operations with depth 22\n",
      "180-th circuit: 2 qubits, 2 classical bits and 31 operations with depth 22\n",
      "181-th circuit: 2 qubits, 2 classical bits and 31 operations with depth 22\n",
      "182-th circuit: 2 qubits, 2 classical bits and 31 operations with depth 22\n",
      "183-th circuit: 2 qubits, 2 classical bits and 31 operations with depth 22\n",
      "184-th circuit: 2 qubits, 2 classical bits and 31 operations with depth 22\n",
      "185-th circuit: 2 qubits, 2 classical bits and 31 operations with depth 22\n",
      "186-th circuit: 2 qubits, 2 classical bits and 31 operations with depth 22\n",
      "187-th circuit: 2 qubits, 2 classical bits and 31 operations with depth 22\n",
      "188-th circuit: 2 qubits, 2 classical bits and 31 operations with depth 22\n",
      "189-th circuit: 2 qubits, 2 classical bits and 31 operations with depth 22\n",
      "190-th circuit: 2 qubits, 2 classical bits and 31 operations with depth 22\n",
      "191-th circuit: 2 qubits, 2 classical bits and 31 operations with depth 22\n",
      "192-th circuit: 2 qubits, 2 classical bits and 31 operations with depth 22\n",
      "193-th circuit: 2 qubits, 2 classical bits and 31 operations with depth 22\n",
      "194-th circuit: 2 qubits, 2 classical bits and 31 operations with depth 22\n",
      "195-th circuit: 2 qubits, 2 classical bits and 31 operations with depth 22\n",
      "196-th circuit: 2 qubits, 2 classical bits and 31 operations with depth 22\n",
      "197-th circuit: 2 qubits, 2 classical bits and 31 operations with depth 22\n",
      "198-th circuit: 2 qubits, 2 classical bits and 31 operations with depth 22\n",
      "199-th circuit: 2 qubits, 2 classical bits and 31 operations with depth 22\n",
      "200-th circuit: 2 qubits, 2 classical bits and 31 operations with depth 22\n",
      "201-th circuit: 2 qubits, 2 classical bits and 31 operations with depth 22\n",
      "202-th circuit: 2 qubits, 2 classical bits and 31 operations with depth 22\n",
      "203-th circuit: 2 qubits, 2 classical bits and 31 operations with depth 22\n",
      "204-th circuit: 2 qubits, 2 classical bits and 31 operations with depth 22\n",
      "205-th circuit: 2 qubits, 2 classical bits and 31 operations with depth 22\n",
      "206-th circuit: 2 qubits, 2 classical bits and 31 operations with depth 22\n",
      "207-th circuit: 2 qubits, 2 classical bits and 31 operations with depth 22\n",
      "208-th circuit: 2 qubits, 2 classical bits and 31 operations with depth 22\n",
      "209-th circuit: 2 qubits, 2 classical bits and 31 operations with depth 22\n",
      "210-th circuit: 2 qubits, 2 classical bits and 31 operations with depth 22\n",
      "211-th circuit: 2 qubits, 2 classical bits and 31 operations with depth 22\n",
      "212-th circuit: 2 qubits, 2 classical bits and 31 operations with depth 22\n",
      "213-th circuit: 2 qubits, 2 classical bits and 31 operations with depth 22\n",
      "214-th circuit: 2 qubits, 2 classical bits and 31 operations with depth 22\n",
      "215-th circuit: 2 qubits, 2 classical bits and 31 operations with depth 22\n",
      "216-th circuit: 2 qubits, 2 classical bits and 31 operations with depth 22\n",
      "217-th circuit: 2 qubits, 2 classical bits and 31 operations with depth 22\n",
      "218-th circuit: 2 qubits, 2 classical bits and 31 operations with depth 22\n",
      "219-th circuit: 2 qubits, 2 classical bits and 31 operations with depth 22\n",
      "220-th circuit: 2 qubits, 2 classical bits and 31 operations with depth 22\n",
      "221-th circuit: 2 qubits, 2 classical bits and 31 operations with depth 22\n",
      "222-th circuit: 2 qubits, 2 classical bits and 31 operations with depth 22\n",
      "223-th circuit: 2 qubits, 2 classical bits and 31 operations with depth 22\n",
      "224-th circuit: 2 qubits, 2 classical bits and 31 operations with depth 22\n",
      "225-th circuit: 2 qubits, 2 classical bits and 31 operations with depth 22\n",
      "226-th circuit: 2 qubits, 2 classical bits and 31 operations with depth 22\n",
      "227-th circuit: 2 qubits, 2 classical bits and 31 operations with depth 22\n",
      "228-th circuit: 2 qubits, 2 classical bits and 31 operations with depth 22\n",
      "229-th circuit: 2 qubits, 2 classical bits and 31 operations with depth 22\n",
      "230-th circuit: 2 qubits, 2 classical bits and 31 operations with depth 22\n",
      "231-th circuit: 2 qubits, 2 classical bits and 31 operations with depth 22\n",
      "232-th circuit: 2 qubits, 2 classical bits and 31 operations with depth 22\n",
      "233-th circuit: 2 qubits, 2 classical bits and 31 operations with depth 22\n",
      "234-th circuit: 2 qubits, 2 classical bits and 31 operations with depth 22\n",
      "235-th circuit: 2 qubits, 2 classical bits and 31 operations with depth 22\n",
      "236-th circuit: 2 qubits, 2 classical bits and 31 operations with depth 22\n",
      "237-th circuit: 2 qubits, 2 classical bits and 31 operations with depth 22\n",
      "238-th circuit: 2 qubits, 2 classical bits and 31 operations with depth 22\n",
      "239-th circuit: 2 qubits, 2 classical bits and 31 operations with depth 22\n",
      "240-th circuit: 2 qubits, 2 classical bits and 31 operations with depth 22\n",
      "241-th circuit: 2 qubits, 2 classical bits and 31 operations with depth 22\n",
      "242-th circuit: 2 qubits, 2 classical bits and 31 operations with depth 22\n",
      "243-th circuit: 2 qubits, 2 classical bits and 31 operations with depth 22\n",
      "244-th circuit: 2 qubits, 2 classical bits and 31 operations with depth 22\n",
      "245-th circuit: 2 qubits, 2 classical bits and 31 operations with depth 22\n",
      "246-th circuit: 2 qubits, 2 classical bits and 31 operations with depth 22\n",
      "247-th circuit: 2 qubits, 2 classical bits and 31 operations with depth 22\n",
      "248-th circuit: 2 qubits, 2 classical bits and 31 operations with depth 22\n",
      "249-th circuit: 2 qubits, 2 classical bits and 31 operations with depth 22\n",
      "250-th circuit: 2 qubits, 2 classical bits and 31 operations with depth 22\n",
      "251-th circuit: 2 qubits, 2 classical bits and 31 operations with depth 22\n",
      "252-th circuit: 2 qubits, 2 classical bits and 31 operations with depth 22\n",
      "253-th circuit: 2 qubits, 2 classical bits and 31 operations with depth 22\n",
      "254-th circuit: 2 qubits, 2 classical bits and 31 operations with depth 22\n",
      "255-th circuit: 2 qubits, 2 classical bits and 31 operations with depth 22\n",
      "256-th circuit: 2 qubits, 2 classical bits and 31 operations with depth 22\n",
      "257-th circuit: 2 qubits, 2 classical bits and 31 operations with depth 22\n",
      "258-th circuit: 2 qubits, 2 classical bits and 31 operations with depth 22\n",
      "259-th circuit: 2 qubits, 2 classical bits and 31 operations with depth 22\n",
      "260-th circuit: 2 qubits, 2 classical bits and 31 operations with depth 22\n",
      "261-th circuit: 2 qubits, 2 classical bits and 31 operations with depth 22\n",
      "262-th circuit: 2 qubits, 2 classical bits and 31 operations with depth 22\n",
      "263-th circuit: 2 qubits, 2 classical bits and 31 operations with depth 22\n",
      "264-th circuit: 2 qubits, 2 classical bits and 31 operations with depth 22\n",
      "265-th circuit: 2 qubits, 2 classical bits and 31 operations with depth 22\n",
      "266-th circuit: 2 qubits, 2 classical bits and 31 operations with depth 22\n",
      "267-th circuit: 2 qubits, 2 classical bits and 31 operations with depth 22\n",
      "268-th circuit: 2 qubits, 2 classical bits and 31 operations with depth 22\n",
      "269-th circuit: 2 qubits, 2 classical bits and 31 operations with depth 22\n",
      "270-th circuit: 2 qubits, 2 classical bits and 31 operations with depth 22\n",
      "271-th circuit: 2 qubits, 2 classical bits and 31 operations with depth 22\n",
      "272-th circuit: 2 qubits, 2 classical bits and 31 operations with depth 22\n",
      "273-th circuit: 2 qubits, 2 classical bits and 31 operations with depth 22\n",
      "274-th circuit: 2 qubits, 2 classical bits and 31 operations with depth 22\n",
      "275-th circuit: 2 qubits, 2 classical bits and 31 operations with depth 22\n",
      "276-th circuit: 2 qubits, 2 classical bits and 31 operations with depth 22\n",
      "277-th circuit: 2 qubits, 2 classical bits and 31 operations with depth 22\n",
      "278-th circuit: 2 qubits, 2 classical bits and 31 operations with depth 22\n",
      "279-th circuit: 2 qubits, 2 classical bits and 31 operations with depth 22\n",
      "280-th circuit: 2 qubits, 2 classical bits and 31 operations with depth 22\n",
      "281-th circuit: 2 qubits, 2 classical bits and 31 operations with depth 22\n",
      "282-th circuit: 2 qubits, 2 classical bits and 31 operations with depth 22\n",
      "283-th circuit: 2 qubits, 2 classical bits and 31 operations with depth 22\n",
      "284-th circuit: 2 qubits, 2 classical bits and 31 operations with depth 22\n",
      "285-th circuit: 2 qubits, 2 classical bits and 31 operations with depth 22\n",
      "286-th circuit: 2 qubits, 2 classical bits and 31 operations with depth 22\n",
      "287-th circuit: 2 qubits, 2 classical bits and 31 operations with depth 22\n",
      "288-th circuit: 2 qubits, 2 classical bits and 31 operations with depth 22\n",
      "289-th circuit: 2 qubits, 2 classical bits and 31 operations with depth 22\n",
      "290-th circuit: 2 qubits, 2 classical bits and 31 operations with depth 22\n",
      "291-th circuit: 2 qubits, 2 classical bits and 31 operations with depth 22\n",
      "292-th circuit: 2 qubits, 2 classical bits and 31 operations with depth 22\n",
      "293-th circuit: 2 qubits, 2 classical bits and 31 operations with depth 22\n",
      "294-th circuit: 2 qubits, 2 classical bits and 31 operations with depth 22\n",
      "295-th circuit: 2 qubits, 2 classical bits and 31 operations with depth 22\n",
      "296-th circuit: 2 qubits, 2 classical bits and 31 operations with depth 22\n",
      "297-th circuit: 2 qubits, 2 classical bits and 31 operations with depth 22\n",
      "298-th circuit: 2 qubits, 2 classical bits and 31 operations with depth 22\n",
      "299-th circuit: 2 qubits, 2 classical bits and 31 operations with depth 22\n",
      "300-th circuit: 2 qubits, 2 classical bits and 31 operations with depth 22\n",
      "301-th circuit: 2 qubits, 2 classical bits and 31 operations with depth 22\n",
      "302-th circuit: 2 qubits, 2 classical bits and 31 operations with depth 22\n",
      "303-th circuit: 2 qubits, 2 classical bits and 31 operations with depth 22\n",
      "304-th circuit: 2 qubits, 2 classical bits and 31 operations with depth 22\n",
      "305-th circuit: 2 qubits, 2 classical bits and 31 operations with depth 22\n",
      "306-th circuit: 2 qubits, 2 classical bits and 31 operations with depth 22\n",
      "307-th circuit: 2 qubits, 2 classical bits and 31 operations with depth 22\n",
      "308-th circuit: 2 qubits, 2 classical bits and 31 operations with depth 22\n",
      "309-th circuit: 2 qubits, 2 classical bits and 31 operations with depth 22\n",
      "310-th circuit: 2 qubits, 2 classical bits and 31 operations with depth 22\n",
      "311-th circuit: 2 qubits, 2 classical bits and 31 operations with depth 22\n",
      "312-th circuit: 2 qubits, 2 classical bits and 31 operations with depth 22\n",
      "313-th circuit: 2 qubits, 2 classical bits and 31 operations with depth 22\n",
      "314-th circuit: 2 qubits, 2 classical bits and 31 operations with depth 22\n",
      "315-th circuit: 2 qubits, 2 classical bits and 31 operations with depth 22\n",
      "316-th circuit: 2 qubits, 2 classical bits and 31 operations with depth 22\n",
      "317-th circuit: 2 qubits, 2 classical bits and 31 operations with depth 22\n",
      "318-th circuit: 2 qubits, 2 classical bits and 31 operations with depth 22\n",
      "319-th circuit: 2 qubits, 2 classical bits and 31 operations with depth 22\n",
      "320-th circuit: 2 qubits, 2 classical bits and 31 operations with depth 22\n",
      "321-th circuit: 2 qubits, 2 classical bits and 31 operations with depth 22\n",
      "322-th circuit: 2 qubits, 2 classical bits and 31 operations with depth 22\n",
      "323-th circuit: 2 qubits, 2 classical bits and 31 operations with depth 22\n",
      "324-th circuit: 2 qubits, 2 classical bits and 31 operations with depth 22\n",
      "325-th circuit: 2 qubits, 2 classical bits and 31 operations with depth 22\n",
      "326-th circuit: 2 qubits, 2 classical bits and 31 operations with depth 22\n",
      "327-th circuit: 2 qubits, 2 classical bits and 31 operations with depth 22\n",
      "328-th circuit: 2 qubits, 2 classical bits and 31 operations with depth 22\n",
      "329-th circuit: 2 qubits, 2 classical bits and 31 operations with depth 22\n",
      "330-th circuit: 2 qubits, 2 classical bits and 31 operations with depth 22\n",
      "331-th circuit: 2 qubits, 2 classical bits and 31 operations with depth 22\n",
      "332-th circuit: 2 qubits, 2 classical bits and 31 operations with depth 22\n",
      "333-th circuit: 2 qubits, 2 classical bits and 31 operations with depth 22\n",
      "334-th circuit: 2 qubits, 2 classical bits and 31 operations with depth 22\n",
      "335-th circuit: 2 qubits, 2 classical bits and 31 operations with depth 22\n",
      "336-th circuit: 2 qubits, 2 classical bits and 31 operations with depth 22\n",
      "337-th circuit: 2 qubits, 2 classical bits and 31 operations with depth 22\n",
      "338-th circuit: 2 qubits, 2 classical bits and 31 operations with depth 22\n",
      "339-th circuit: 2 qubits, 2 classical bits and 31 operations with depth 22\n",
      "340-th circuit: 2 qubits, 2 classical bits and 31 operations with depth 22\n",
      "341-th circuit: 2 qubits, 2 classical bits and 31 operations with depth 22\n",
      "342-th circuit: 2 qubits, 2 classical bits and 31 operations with depth 22\n",
      "343-th circuit: 2 qubits, 2 classical bits and 31 operations with depth 22\n",
      "344-th circuit: 2 qubits, 2 classical bits and 31 operations with depth 22\n",
      "345-th circuit: 2 qubits, 2 classical bits and 31 operations with depth 22\n",
      "346-th circuit: 2 qubits, 2 classical bits and 31 operations with depth 22\n",
      "347-th circuit: 2 qubits, 2 classical bits and 31 operations with depth 22\n",
      "348-th circuit: 2 qubits, 2 classical bits and 31 operations with depth 22\n",
      "349-th circuit: 2 qubits, 2 classical bits and 31 operations with depth 22\n",
      "350-th circuit: 2 qubits, 2 classical bits and 31 operations with depth 22\n",
      "351-th circuit: 2 qubits, 2 classical bits and 31 operations with depth 22\n",
      "352-th circuit: 2 qubits, 2 classical bits and 31 operations with depth 22\n",
      "353-th circuit: 2 qubits, 2 classical bits and 31 operations with depth 22\n",
      "354-th circuit: 2 qubits, 2 classical bits and 31 operations with depth 22\n",
      "355-th circuit: 2 qubits, 2 classical bits and 31 operations with depth 22\n",
      "356-th circuit: 2 qubits, 2 classical bits and 31 operations with depth 22\n",
      "357-th circuit: 2 qubits, 2 classical bits and 31 operations with depth 22\n",
      "358-th circuit: 2 qubits, 2 classical bits and 31 operations with depth 22\n",
      "359-th circuit: 2 qubits, 2 classical bits and 31 operations with depth 22\n",
      "360-th circuit: 2 qubits, 2 classical bits and 31 operations with depth 22\n",
      "361-th circuit: 2 qubits, 2 classical bits and 31 operations with depth 22\n",
      "362-th circuit: 2 qubits, 2 classical bits and 31 operations with depth 22\n",
      "363-th circuit: 2 qubits, 2 classical bits and 31 operations with depth 22\n",
      "364-th circuit: 2 qubits, 2 classical bits and 31 operations with depth 22\n",
      "365-th circuit: 2 qubits, 2 classical bits and 31 operations with depth 22\n",
      "366-th circuit: 2 qubits, 2 classical bits and 31 operations with depth 22\n",
      "367-th circuit: 2 qubits, 2 classical bits and 31 operations with depth 22\n",
      "368-th circuit: 2 qubits, 2 classical bits and 31 operations with depth 22\n",
      "369-th circuit: 2 qubits, 2 classical bits and 31 operations with depth 22\n",
      "370-th circuit: 2 qubits, 2 classical bits and 31 operations with depth 22\n",
      "371-th circuit: 2 qubits, 2 classical bits and 31 operations with depth 22\n",
      "372-th circuit: 2 qubits, 2 classical bits and 31 operations with depth 22\n",
      "373-th circuit: 2 qubits, 2 classical bits and 31 operations with depth 22\n",
      "374-th circuit: 2 qubits, 2 classical bits and 31 operations with depth 22\n",
      "375-th circuit: 2 qubits, 2 classical bits and 31 operations with depth 22\n",
      "376-th circuit: 2 qubits, 2 classical bits and 31 operations with depth 22\n",
      "377-th circuit: 2 qubits, 2 classical bits and 31 operations with depth 22\n",
      "378-th circuit: 2 qubits, 2 classical bits and 31 operations with depth 22\n",
      "379-th circuit: 2 qubits, 2 classical bits and 31 operations with depth 22\n",
      "380-th circuit: 2 qubits, 2 classical bits and 31 operations with depth 22\n",
      "381-th circuit: 2 qubits, 2 classical bits and 31 operations with depth 22\n",
      "382-th circuit: 2 qubits, 2 classical bits and 31 operations with depth 22\n",
      "383-th circuit: 2 qubits, 2 classical bits and 31 operations with depth 22\n",
      "384-th circuit: 2 qubits, 2 classical bits and 31 operations with depth 22\n",
      "385-th circuit: 2 qubits, 2 classical bits and 31 operations with depth 22\n",
      "386-th circuit: 2 qubits, 2 classical bits and 31 operations with depth 22\n",
      "387-th circuit: 2 qubits, 2 classical bits and 31 operations with depth 22\n",
      "388-th circuit: 2 qubits, 2 classical bits and 31 operations with depth 22\n",
      "389-th circuit: 2 qubits, 2 classical bits and 31 operations with depth 22\n",
      "390-th circuit: 2 qubits, 2 classical bits and 31 operations with depth 22\n",
      "391-th circuit: 2 qubits, 2 classical bits and 31 operations with depth 22\n",
      "392-th circuit: 2 qubits, 2 classical bits and 31 operations with depth 22\n",
      "393-th circuit: 2 qubits, 2 classical bits and 31 operations with depth 22\n",
      "394-th circuit: 2 qubits, 2 classical bits and 31 operations with depth 22\n",
      "395-th circuit: 2 qubits, 2 classical bits and 31 operations with depth 22\n",
      "396-th circuit: 2 qubits, 2 classical bits and 31 operations with depth 22\n",
      "397-th circuit: 2 qubits, 2 classical bits and 31 operations with depth 22\n",
      "398-th circuit: 2 qubits, 2 classical bits and 31 operations with depth 22\n",
      "399-th circuit: 2 qubits, 2 classical bits and 31 operations with depth 22\n",
      "400-th circuit: 2 qubits, 2 classical bits and 31 operations with depth 22\n",
      "401-th circuit: 2 qubits, 2 classical bits and 31 operations with depth 22\n",
      "402-th circuit: 2 qubits, 2 classical bits and 31 operations with depth 22\n",
      "403-th circuit: 2 qubits, 2 classical bits and 31 operations with depth 22\n",
      "404-th circuit: 2 qubits, 2 classical bits and 31 operations with depth 22\n",
      "405-th circuit: 2 qubits, 2 classical bits and 31 operations with depth 22\n",
      "406-th circuit: 2 qubits, 2 classical bits and 31 operations with depth 22\n",
      "407-th circuit: 2 qubits, 2 classical bits and 31 operations with depth 22\n",
      "408-th circuit: 2 qubits, 2 classical bits and 31 operations with depth 22\n",
      "409-th circuit: 2 qubits, 2 classical bits and 31 operations with depth 22\n",
      "410-th circuit: 2 qubits, 2 classical bits and 31 operations with depth 22\n",
      "411-th circuit: 2 qubits, 2 classical bits and 31 operations with depth 22\n",
      "412-th circuit: 2 qubits, 2 classical bits and 31 operations with depth 22\n",
      "413-th circuit: 2 qubits, 2 classical bits and 31 operations with depth 22\n",
      "414-th circuit: 2 qubits, 2 classical bits and 31 operations with depth 22\n",
      "415-th circuit: 2 qubits, 2 classical bits and 31 operations with depth 22\n",
      "416-th circuit: 2 qubits, 2 classical bits and 31 operations with depth 22\n",
      "417-th circuit: 2 qubits, 2 classical bits and 31 operations with depth 22\n",
      "418-th circuit: 2 qubits, 2 classical bits and 31 operations with depth 22\n",
      "419-th circuit: 2 qubits, 2 classical bits and 31 operations with depth 22\n",
      "420-th circuit: 2 qubits, 2 classical bits and 31 operations with depth 22\n",
      "421-th circuit: 2 qubits, 2 classical bits and 31 operations with depth 22\n",
      "422-th circuit: 2 qubits, 2 classical bits and 31 operations with depth 22\n",
      "423-th circuit: 2 qubits, 2 classical bits and 31 operations with depth 22\n",
      "424-th circuit: 2 qubits, 2 classical bits and 31 operations with depth 22\n",
      "425-th circuit: 2 qubits, 2 classical bits and 31 operations with depth 22\n",
      "426-th circuit: 2 qubits, 2 classical bits and 31 operations with depth 22\n",
      "427-th circuit: 2 qubits, 2 classical bits and 31 operations with depth 22\n",
      "428-th circuit: 2 qubits, 2 classical bits and 31 operations with depth 22\n",
      "429-th circuit: 2 qubits, 2 classical bits and 31 operations with depth 22\n",
      "430-th circuit: 2 qubits, 2 classical bits and 31 operations with depth 22\n",
      "431-th circuit: 2 qubits, 2 classical bits and 31 operations with depth 22\n",
      "432-th circuit: 2 qubits, 2 classical bits and 31 operations with depth 22\n",
      "433-th circuit: 2 qubits, 2 classical bits and 31 operations with depth 22\n",
      "434-th circuit: 2 qubits, 2 classical bits and 31 operations with depth 22\n",
      "435-th circuit: 2 qubits, 2 classical bits and 31 operations with depth 22\n",
      "436-th circuit: 2 qubits, 2 classical bits and 31 operations with depth 22\n",
      "437-th circuit: 2 qubits, 2 classical bits and 31 operations with depth 22\n",
      "438-th circuit: 2 qubits, 2 classical bits and 31 operations with depth 22\n",
      "439-th circuit: 2 qubits, 2 classical bits and 31 operations with depth 22\n",
      "440-th circuit: 2 qubits, 2 classical bits and 31 operations with depth 22\n",
      "441-th circuit: 2 qubits, 2 classical bits and 31 operations with depth 22\n",
      "442-th circuit: 2 qubits, 2 classical bits and 31 operations with depth 22\n",
      "443-th circuit: 2 qubits, 2 classical bits and 31 operations with depth 22\n",
      "444-th circuit: 2 qubits, 2 classical bits and 31 operations with depth 22\n",
      "445-th circuit: 2 qubits, 2 classical bits and 31 operations with depth 22\n",
      "446-th circuit: 2 qubits, 2 classical bits and 31 operations with depth 22\n",
      "447-th circuit: 2 qubits, 2 classical bits and 31 operations with depth 22\n",
      "448-th circuit: 2 qubits, 2 classical bits and 31 operations with depth 22\n",
      "449-th circuit: 2 qubits, 2 classical bits and 31 operations with depth 22\n",
      "450-th circuit: 2 qubits, 2 classical bits and 31 operations with depth 22\n",
      "451-th circuit: 2 qubits, 2 classical bits and 31 operations with depth 22\n",
      "452-th circuit: 2 qubits, 2 classical bits and 31 operations with depth 22\n",
      "453-th circuit: 2 qubits, 2 classical bits and 31 operations with depth 22\n",
      "454-th circuit: 2 qubits, 2 classical bits and 31 operations with depth 22\n",
      "455-th circuit: 2 qubits, 2 classical bits and 31 operations with depth 22\n",
      "456-th circuit: 2 qubits, 2 classical bits and 31 operations with depth 22\n",
      "457-th circuit: 2 qubits, 2 classical bits and 31 operations with depth 22\n",
      "458-th circuit: 2 qubits, 2 classical bits and 31 operations with depth 22\n",
      "459-th circuit: 2 qubits, 2 classical bits and 31 operations with depth 22\n",
      "460-th circuit: 2 qubits, 2 classical bits and 31 operations with depth 22\n",
      "461-th circuit: 2 qubits, 2 classical bits and 31 operations with depth 22\n",
      "462-th circuit: 2 qubits, 2 classical bits and 31 operations with depth 22\n",
      "463-th circuit: 2 qubits, 2 classical bits and 31 operations with depth 22\n",
      "464-th circuit: 2 qubits, 2 classical bits and 31 operations with depth 22\n",
      "465-th circuit: 2 qubits, 2 classical bits and 31 operations with depth 22\n",
      "466-th circuit: 2 qubits, 2 classical bits and 31 operations with depth 22\n",
      "467-th circuit: 2 qubits, 2 classical bits and 31 operations with depth 22\n",
      "468-th circuit: 2 qubits, 2 classical bits and 31 operations with depth 22\n",
      "469-th circuit: 2 qubits, 2 classical bits and 31 operations with depth 22\n",
      "470-th circuit: 2 qubits, 2 classical bits and 31 operations with depth 22\n",
      "471-th circuit: 2 qubits, 2 classical bits and 31 operations with depth 22\n",
      "472-th circuit: 2 qubits, 2 classical bits and 31 operations with depth 22\n",
      "473-th circuit: 2 qubits, 2 classical bits and 31 operations with depth 22\n",
      "474-th circuit: 2 qubits, 2 classical bits and 31 operations with depth 22\n",
      "475-th circuit: 2 qubits, 2 classical bits and 31 operations with depth 22\n",
      "476-th circuit: 2 qubits, 2 classical bits and 31 operations with depth 22\n",
      "477-th circuit: 2 qubits, 2 classical bits and 31 operations with depth 22\n",
      "478-th circuit: 2 qubits, 2 classical bits and 31 operations with depth 22\n",
      "479-th circuit: 2 qubits, 2 classical bits and 31 operations with depth 22\n",
      "480-th circuit: 2 qubits, 2 classical bits and 31 operations with depth 22\n",
      "481-th circuit: 2 qubits, 2 classical bits and 31 operations with depth 22\n",
      "482-th circuit: 2 qubits, 2 classical bits and 31 operations with depth 22\n",
      "483-th circuit: 2 qubits, 2 classical bits and 31 operations with depth 22\n",
      "484-th circuit: 2 qubits, 2 classical bits and 31 operations with depth 22\n",
      "485-th circuit: 2 qubits, 2 classical bits and 31 operations with depth 22\n",
      "486-th circuit: 2 qubits, 2 classical bits and 31 operations with depth 22\n",
      "487-th circuit: 2 qubits, 2 classical bits and 31 operations with depth 22\n",
      "488-th circuit: 2 qubits, 2 classical bits and 31 operations with depth 22\n",
      "489-th circuit: 2 qubits, 2 classical bits and 31 operations with depth 22\n",
      "490-th circuit: 2 qubits, 2 classical bits and 31 operations with depth 22\n",
      "491-th circuit: 2 qubits, 2 classical bits and 31 operations with depth 22\n",
      "492-th circuit: 2 qubits, 2 classical bits and 31 operations with depth 22\n",
      "493-th circuit: 2 qubits, 2 classical bits and 31 operations with depth 22\n",
      "494-th circuit: 2 qubits, 2 classical bits and 31 operations with depth 22\n",
      "495-th circuit: 2 qubits, 2 classical bits and 31 operations with depth 22\n",
      "496-th circuit: 2 qubits, 2 classical bits and 31 operations with depth 22\n",
      "497-th circuit: 2 qubits, 2 classical bits and 31 operations with depth 22\n",
      "498-th circuit: 2 qubits, 2 classical bits and 31 operations with depth 22\n",
      "499-th circuit: 2 qubits, 2 classical bits and 31 operations with depth 22\n",
      "500-th circuit: 2 qubits, 2 classical bits and 31 operations with depth 22\n",
      "501-th circuit: 2 qubits, 2 classical bits and 31 operations with depth 22\n",
      "502-th circuit: 2 qubits, 2 classical bits and 31 operations with depth 22\n",
      "503-th circuit: 2 qubits, 2 classical bits and 31 operations with depth 22\n",
      "504-th circuit: 2 qubits, 2 classical bits and 31 operations with depth 22\n",
      "505-th circuit: 2 qubits, 2 classical bits and 31 operations with depth 22\n",
      "506-th circuit: 2 qubits, 2 classical bits and 31 operations with depth 22\n",
      "507-th circuit: 2 qubits, 2 classical bits and 31 operations with depth 22\n",
      "508-th circuit: 2 qubits, 2 classical bits and 31 operations with depth 22\n",
      "509-th circuit: 2 qubits, 2 classical bits and 31 operations with depth 22\n",
      "510-th circuit: 2 qubits, 2 classical bits and 31 operations with depth 22\n",
      "511-th circuit: 2 qubits, 2 classical bits and 31 operations with depth 22\n",
      "512-th circuit: 2 qubits, 2 classical bits and 31 operations with depth 22\n",
      "513-th circuit: 2 qubits, 2 classical bits and 31 operations with depth 22\n",
      "514-th circuit: 2 qubits, 2 classical bits and 31 operations with depth 22\n",
      "515-th circuit: 2 qubits, 2 classical bits and 31 operations with depth 22\n",
      "516-th circuit: 2 qubits, 2 classical bits and 31 operations with depth 22\n",
      "517-th circuit: 2 qubits, 2 classical bits and 31 operations with depth 22\n",
      "518-th circuit: 2 qubits, 2 classical bits and 31 operations with depth 22\n",
      "519-th circuit: 2 qubits, 2 classical bits and 31 operations with depth 22\n",
      "520-th circuit: 2 qubits, 2 classical bits and 31 operations with depth 22\n",
      "521-th circuit: 2 qubits, 2 classical bits and 31 operations with depth 22\n",
      "522-th circuit: 2 qubits, 2 classical bits and 31 operations with depth 22\n",
      "523-th circuit: 2 qubits, 2 classical bits and 31 operations with depth 22\n",
      "524-th circuit: 2 qubits, 2 classical bits and 31 operations with depth 22\n",
      "525-th circuit: 2 qubits, 2 classical bits and 31 operations with depth 22\n",
      "526-th circuit: 2 qubits, 2 classical bits and 31 operations with depth 22\n",
      "527-th circuit: 2 qubits, 2 classical bits and 31 operations with depth 22\n",
      "528-th circuit: 2 qubits, 2 classical bits and 31 operations with depth 22\n",
      "529-th circuit: 2 qubits, 2 classical bits and 31 operations with depth 22\n",
      "530-th circuit: 2 qubits, 2 classical bits and 31 operations with depth 22\n",
      "531-th circuit: 2 qubits, 2 classical bits and 31 operations with depth 22\n",
      "532-th circuit: 2 qubits, 2 classical bits and 31 operations with depth 22\n",
      "533-th circuit: 2 qubits, 2 classical bits and 31 operations with depth 22\n",
      "534-th circuit: 2 qubits, 2 classical bits and 31 operations with depth 22\n",
      "535-th circuit: 2 qubits, 2 classical bits and 31 operations with depth 22\n",
      "536-th circuit: 2 qubits, 2 classical bits and 31 operations with depth 22\n",
      "537-th circuit: 2 qubits, 2 classical bits and 31 operations with depth 22\n",
      "538-th circuit: 2 qubits, 2 classical bits and 31 operations with depth 22\n",
      "539-th circuit: 2 qubits, 2 classical bits and 31 operations with depth 22\n",
      "540-th circuit: 2 qubits, 2 classical bits and 31 operations with depth 22\n",
      "541-th circuit: 2 qubits, 2 classical bits and 31 operations with depth 22\n",
      "542-th circuit: 2 qubits, 2 classical bits and 31 operations with depth 22\n",
      "543-th circuit: 2 qubits, 2 classical bits and 31 operations with depth 22\n",
      "544-th circuit: 2 qubits, 2 classical bits and 31 operations with depth 22\n",
      "545-th circuit: 2 qubits, 2 classical bits and 31 operations with depth 22\n",
      "546-th circuit: 2 qubits, 2 classical bits and 31 operations with depth 22\n",
      "547-th circuit: 2 qubits, 2 classical bits and 31 operations with depth 22\n",
      "548-th circuit: 2 qubits, 2 classical bits and 31 operations with depth 22\n",
      "549-th circuit: 2 qubits, 2 classical bits and 31 operations with depth 22\n",
      "550-th circuit: 2 qubits, 2 classical bits and 31 operations with depth 22\n",
      "551-th circuit: 2 qubits, 2 classical bits and 31 operations with depth 22\n",
      "552-th circuit: 2 qubits, 2 classical bits and 31 operations with depth 22\n",
      "553-th circuit: 2 qubits, 2 classical bits and 31 operations with depth 22\n",
      "554-th circuit: 2 qubits, 2 classical bits and 31 operations with depth 22\n",
      "555-th circuit: 2 qubits, 2 classical bits and 31 operations with depth 22\n",
      "556-th circuit: 2 qubits, 2 classical bits and 31 operations with depth 22\n",
      "557-th circuit: 2 qubits, 2 classical bits and 31 operations with depth 22\n",
      "558-th circuit: 2 qubits, 2 classical bits and 31 operations with depth 22\n",
      "559-th circuit: 2 qubits, 2 classical bits and 31 operations with depth 22\n",
      "560-th circuit: 2 qubits, 2 classical bits and 31 operations with depth 22\n",
      "561-th circuit: 2 qubits, 2 classical bits and 31 operations with depth 22\n",
      "562-th circuit: 2 qubits, 2 classical bits and 31 operations with depth 22\n",
      "563-th circuit: 2 qubits, 2 classical bits and 31 operations with depth 22\n",
      "564-th circuit: 2 qubits, 2 classical bits and 31 operations with depth 22\n",
      "565-th circuit: 2 qubits, 2 classical bits and 31 operations with depth 22\n",
      "566-th circuit: 2 qubits, 2 classical bits and 31 operations with depth 22\n",
      "567-th circuit: 2 qubits, 2 classical bits and 31 operations with depth 22\n",
      "568-th circuit: 2 qubits, 2 classical bits and 31 operations with depth 22\n",
      "569-th circuit: 2 qubits, 2 classical bits and 31 operations with depth 22\n",
      "570-th circuit: 2 qubits, 2 classical bits and 31 operations with depth 22\n",
      "571-th circuit: 2 qubits, 2 classical bits and 31 operations with depth 22\n",
      "572-th circuit: 2 qubits, 2 classical bits and 31 operations with depth 22\n",
      "573-th circuit: 2 qubits, 2 classical bits and 31 operations with depth 22\n",
      "574-th circuit: 2 qubits, 2 classical bits and 31 operations with depth 22\n",
      "575-th circuit: 2 qubits, 2 classical bits and 31 operations with depth 22\n",
      "576-th circuit: 2 qubits, 2 classical bits and 31 operations with depth 22\n",
      "577-th circuit: 2 qubits, 2 classical bits and 31 operations with depth 22\n",
      "578-th circuit: 2 qubits, 2 classical bits and 31 operations with depth 22\n",
      "579-th circuit: 2 qubits, 2 classical bits and 31 operations with depth 22\n",
      "580-th circuit: 2 qubits, 2 classical bits and 31 operations with depth 22\n",
      "581-th circuit: 2 qubits, 2 classical bits and 31 operations with depth 22\n",
      "582-th circuit: 2 qubits, 2 classical bits and 31 operations with depth 22\n",
      "583-th circuit: 2 qubits, 2 classical bits and 31 operations with depth 22\n",
      "584-th circuit: 2 qubits, 2 classical bits and 31 operations with depth 22\n",
      "585-th circuit: 2 qubits, 2 classical bits and 31 operations with depth 22\n",
      "586-th circuit: 2 qubits, 2 classical bits and 31 operations with depth 22\n",
      "587-th circuit: 2 qubits, 2 classical bits and 31 operations with depth 22\n",
      "588-th circuit: 2 qubits, 2 classical bits and 31 operations with depth 22\n",
      "589-th circuit: 2 qubits, 2 classical bits and 31 operations with depth 22\n",
      "590-th circuit: 2 qubits, 2 classical bits and 31 operations with depth 22\n",
      "591-th circuit: 2 qubits, 2 classical bits and 31 operations with depth 22\n",
      "592-th circuit: 2 qubits, 2 classical bits and 31 operations with depth 22\n",
      "593-th circuit: 2 qubits, 2 classical bits and 31 operations with depth 22\n",
      "594-th circuit: 2 qubits, 2 classical bits and 31 operations with depth 22\n",
      "595-th circuit: 2 qubits, 2 classical bits and 31 operations with depth 22\n",
      "596-th circuit: 2 qubits, 2 classical bits and 31 operations with depth 22\n",
      "597-th circuit: 2 qubits, 2 classical bits and 31 operations with depth 22\n",
      "598-th circuit: 2 qubits, 2 classical bits and 31 operations with depth 22\n",
      "599-th circuit: 2 qubits, 2 classical bits and 31 operations with depth 22\n",
      "600-th circuit: 2 qubits, 2 classical bits and 31 operations with depth 22\n",
      "601-th circuit: 2 qubits, 2 classical bits and 31 operations with depth 22\n",
      "602-th circuit: 2 qubits, 2 classical bits and 31 operations with depth 22\n",
      "603-th circuit: 2 qubits, 2 classical bits and 31 operations with depth 22\n",
      "604-th circuit: 2 qubits, 2 classical bits and 31 operations with depth 22\n",
      "605-th circuit: 2 qubits, 2 classical bits and 31 operations with depth 22\n",
      "606-th circuit: 2 qubits, 2 classical bits and 31 operations with depth 22\n",
      "607-th circuit: 2 qubits, 2 classical bits and 31 operations with depth 22\n",
      "608-th circuit: 2 qubits, 2 classical bits and 31 operations with depth 22\n",
      "609-th circuit: 2 qubits, 2 classical bits and 31 operations with depth 22\n",
      "610-th circuit: 2 qubits, 2 classical bits and 31 operations with depth 22\n",
      "611-th circuit: 2 qubits, 2 classical bits and 31 operations with depth 22\n",
      "612-th circuit: 2 qubits, 2 classical bits and 31 operations with depth 22\n",
      "613-th circuit: 2 qubits, 2 classical bits and 31 operations with depth 22\n",
      "614-th circuit: 2 qubits, 2 classical bits and 31 operations with depth 22\n",
      "615-th circuit: 2 qubits, 2 classical bits and 31 operations with depth 22\n",
      "616-th circuit: 2 qubits, 2 classical bits and 31 operations with depth 22\n",
      "617-th circuit: 2 qubits, 2 classical bits and 31 operations with depth 22\n",
      "618-th circuit: 2 qubits, 2 classical bits and 31 operations with depth 22\n",
      "619-th circuit: 2 qubits, 2 classical bits and 31 operations with depth 22\n",
      "620-th circuit: 2 qubits, 2 classical bits and 31 operations with depth 22\n",
      "621-th circuit: 2 qubits, 2 classical bits and 31 operations with depth 22\n",
      "622-th circuit: 2 qubits, 2 classical bits and 31 operations with depth 22\n",
      "623-th circuit: 2 qubits, 2 classical bits and 31 operations with depth 22\n",
      "624-th circuit: 2 qubits, 2 classical bits and 31 operations with depth 22\n",
      "625-th circuit: 2 qubits, 2 classical bits and 31 operations with depth 22\n",
      "626-th circuit: 2 qubits, 2 classical bits and 31 operations with depth 22\n",
      "627-th circuit: 2 qubits, 2 classical bits and 31 operations with depth 22\n",
      "628-th circuit: 2 qubits, 2 classical bits and 31 operations with depth 22\n",
      "629-th circuit: 2 qubits, 2 classical bits and 31 operations with depth 22\n",
      "630-th circuit: 2 qubits, 2 classical bits and 31 operations with depth 22\n",
      "631-th circuit: 2 qubits, 2 classical bits and 31 operations with depth 22\n",
      "632-th circuit: 2 qubits, 2 classical bits and 31 operations with depth 22\n",
      "633-th circuit: 2 qubits, 2 classical bits and 31 operations with depth 22\n",
      "634-th circuit: 2 qubits, 2 classical bits and 31 operations with depth 22\n",
      "635-th circuit: 2 qubits, 2 classical bits and 31 operations with depth 22\n",
      "636-th circuit: 2 qubits, 2 classical bits and 31 operations with depth 22\n",
      "637-th circuit: 2 qubits, 2 classical bits and 31 operations with depth 22\n",
      "638-th circuit: 2 qubits, 2 classical bits and 31 operations with depth 22\n",
      "639-th circuit: 2 qubits, 2 classical bits and 31 operations with depth 22\n",
      "640-th circuit: 2 qubits, 2 classical bits and 31 operations with depth 22\n",
      "641-th circuit: 2 qubits, 2 classical bits and 31 operations with depth 22\n",
      "642-th circuit: 2 qubits, 2 classical bits and 31 operations with depth 22\n",
      "643-th circuit: 2 qubits, 2 classical bits and 31 operations with depth 22\n",
      "644-th circuit: 2 qubits, 2 classical bits and 31 operations with depth 22\n",
      "645-th circuit: 2 qubits, 2 classical bits and 31 operations with depth 22\n",
      "646-th circuit: 2 qubits, 2 classical bits and 31 operations with depth 22\n",
      "647-th circuit: 2 qubits, 2 classical bits and 31 operations with depth 22\n",
      "648-th circuit: 2 qubits, 2 classical bits and 31 operations with depth 22\n",
      "649-th circuit: 2 qubits, 2 classical bits and 31 operations with depth 22\n",
      "650-th circuit: 2 qubits, 2 classical bits and 31 operations with depth 22\n",
      "651-th circuit: 2 qubits, 2 classical bits and 31 operations with depth 22\n",
      "652-th circuit: 2 qubits, 2 classical bits and 31 operations with depth 22\n",
      "653-th circuit: 2 qubits, 2 classical bits and 31 operations with depth 22\n",
      "654-th circuit: 2 qubits, 2 classical bits and 31 operations with depth 22\n",
      "655-th circuit: 2 qubits, 2 classical bits and 31 operations with depth 22\n",
      "656-th circuit: 2 qubits, 2 classical bits and 31 operations with depth 22\n",
      "657-th circuit: 2 qubits, 2 classical bits and 31 operations with depth 22\n",
      "658-th circuit: 2 qubits, 2 classical bits and 31 operations with depth 22\n",
      "659-th circuit: 2 qubits, 2 classical bits and 31 operations with depth 22\n",
      "660-th circuit: 2 qubits, 2 classical bits and 31 operations with depth 22\n",
      "661-th circuit: 2 qubits, 2 classical bits and 31 operations with depth 22\n",
      "662-th circuit: 2 qubits, 2 classical bits and 31 operations with depth 22\n",
      "663-th circuit: 2 qubits, 2 classical bits and 31 operations with depth 22\n",
      "664-th circuit: 2 qubits, 2 classical bits and 31 operations with depth 22\n",
      "665-th circuit: 2 qubits, 2 classical bits and 31 operations with depth 22\n",
      "666-th circuit: 2 qubits, 2 classical bits and 31 operations with depth 22\n",
      "667-th circuit: 2 qubits, 2 classical bits and 31 operations with depth 22\n",
      "668-th circuit: 2 qubits, 2 classical bits and 31 operations with depth 22\n",
      "669-th circuit: 2 qubits, 2 classical bits and 31 operations with depth 22\n",
      "670-th circuit: 2 qubits, 2 classical bits and 31 operations with depth 22\n",
      "671-th circuit: 2 qubits, 2 classical bits and 31 operations with depth 22\n",
      "672-th circuit: 2 qubits, 2 classical bits and 31 operations with depth 22\n",
      "673-th circuit: 2 qubits, 2 classical bits and 31 operations with depth 22\n",
      "674-th circuit: 2 qubits, 2 classical bits and 31 operations with depth 22\n",
      "675-th circuit: 2 qubits, 2 classical bits and 31 operations with depth 22\n",
      "676-th circuit: 2 qubits, 2 classical bits and 31 operations with depth 22\n",
      "677-th circuit: 2 qubits, 2 classical bits and 31 operations with depth 22\n",
      "678-th circuit: 2 qubits, 2 classical bits and 31 operations with depth 22\n",
      "679-th circuit: 2 qubits, 2 classical bits and 31 operations with depth 22\n",
      "680-th circuit: 2 qubits, 2 classical bits and 31 operations with depth 22\n",
      "681-th circuit: 2 qubits, 2 classical bits and 31 operations with depth 22\n",
      "682-th circuit: 2 qubits, 2 classical bits and 31 operations with depth 22\n",
      "683-th circuit: 2 qubits, 2 classical bits and 31 operations with depth 22\n",
      "684-th circuit: 2 qubits, 2 classical bits and 31 operations with depth 22\n",
      "685-th circuit: 2 qubits, 2 classical bits and 31 operations with depth 22\n",
      "686-th circuit: 2 qubits, 2 classical bits and 31 operations with depth 22\n",
      "687-th circuit: 2 qubits, 2 classical bits and 31 operations with depth 22\n",
      "688-th circuit: 2 qubits, 2 classical bits and 31 operations with depth 22\n",
      "689-th circuit: 2 qubits, 2 classical bits and 31 operations with depth 22\n",
      "690-th circuit: 2 qubits, 2 classical bits and 31 operations with depth 22\n",
      "691-th circuit: 2 qubits, 2 classical bits and 31 operations with depth 22\n",
      "692-th circuit: 2 qubits, 2 classical bits and 31 operations with depth 22\n",
      "693-th circuit: 2 qubits, 2 classical bits and 31 operations with depth 22\n",
      "694-th circuit: 2 qubits, 2 classical bits and 31 operations with depth 22\n",
      "695-th circuit: 2 qubits, 2 classical bits and 31 operations with depth 22\n",
      "696-th circuit: 2 qubits, 2 classical bits and 31 operations with depth 22\n",
      "697-th circuit: 2 qubits, 2 classical bits and 31 operations with depth 22\n",
      "698-th circuit: 2 qubits, 2 classical bits and 31 operations with depth 22\n",
      "699-th circuit: 2 qubits, 2 classical bits and 31 operations with depth 22\n",
      "700-th circuit: 2 qubits, 2 classical bits and 31 operations with depth 22\n",
      "701-th circuit: 2 qubits, 2 classical bits and 31 operations with depth 22\n",
      "702-th circuit: 2 qubits, 2 classical bits and 31 operations with depth 22\n",
      "703-th circuit: 2 qubits, 2 classical bits and 31 operations with depth 22\n",
      "704-th circuit: 2 qubits, 2 classical bits and 31 operations with depth 22\n",
      "705-th circuit: 2 qubits, 2 classical bits and 31 operations with depth 22\n",
      "706-th circuit: 2 qubits, 2 classical bits and 31 operations with depth 22\n",
      "707-th circuit: 2 qubits, 2 classical bits and 31 operations with depth 22\n",
      "708-th circuit: 2 qubits, 2 classical bits and 31 operations with depth 22\n",
      "709-th circuit: 2 qubits, 2 classical bits and 31 operations with depth 22\n",
      "710-th circuit: 2 qubits, 2 classical bits and 31 operations with depth 22\n",
      "711-th circuit: 2 qubits, 2 classical bits and 31 operations with depth 22\n",
      "712-th circuit: 2 qubits, 2 classical bits and 31 operations with depth 22\n",
      "713-th circuit: 2 qubits, 2 classical bits and 31 operations with depth 22\n",
      "714-th circuit: 2 qubits, 2 classical bits and 31 operations with depth 22\n",
      "715-th circuit: 2 qubits, 2 classical bits and 31 operations with depth 22\n",
      "716-th circuit: 2 qubits, 2 classical bits and 31 operations with depth 22\n",
      "717-th circuit: 2 qubits, 2 classical bits and 31 operations with depth 22\n",
      "718-th circuit: 2 qubits, 2 classical bits and 31 operations with depth 22\n",
      "719-th circuit: 2 qubits, 2 classical bits and 31 operations with depth 22\n",
      "720-th circuit: 2 qubits, 2 classical bits and 31 operations with depth 22\n",
      "721-th circuit: 2 qubits, 2 classical bits and 31 operations with depth 22\n",
      "722-th circuit: 2 qubits, 2 classical bits and 31 operations with depth 22\n",
      "723-th circuit: 2 qubits, 2 classical bits and 31 operations with depth 22\n",
      "724-th circuit: 2 qubits, 2 classical bits and 31 operations with depth 22\n",
      "725-th circuit: 2 qubits, 2 classical bits and 31 operations with depth 22\n",
      "726-th circuit: 2 qubits, 2 classical bits and 31 operations with depth 22\n",
      "727-th circuit: 2 qubits, 2 classical bits and 31 operations with depth 22\n",
      "728-th circuit: 2 qubits, 2 classical bits and 31 operations with depth 22\n",
      "729-th circuit: 2 qubits, 2 classical bits and 31 operations with depth 22\n",
      "730-th circuit: 2 qubits, 2 classical bits and 31 operations with depth 22\n",
      "731-th circuit: 2 qubits, 2 classical bits and 31 operations with depth 22\n",
      "732-th circuit: 2 qubits, 2 classical bits and 31 operations with depth 22\n",
      "733-th circuit: 2 qubits, 2 classical bits and 31 operations with depth 22\n",
      "734-th circuit: 2 qubits, 2 classical bits and 31 operations with depth 22\n",
      "735-th circuit: 2 qubits, 2 classical bits and 31 operations with depth 22\n",
      "736-th circuit: 2 qubits, 2 classical bits and 31 operations with depth 22\n",
      "737-th circuit: 2 qubits, 2 classical bits and 31 operations with depth 22\n",
      "738-th circuit: 2 qubits, 2 classical bits and 31 operations with depth 22\n",
      "739-th circuit: 2 qubits, 2 classical bits and 31 operations with depth 22\n",
      "740-th circuit: 2 qubits, 2 classical bits and 31 operations with depth 22\n",
      "741-th circuit: 2 qubits, 2 classical bits and 31 operations with depth 22\n",
      "742-th circuit: 2 qubits, 2 classical bits and 31 operations with depth 22\n",
      "743-th circuit: 2 qubits, 2 classical bits and 31 operations with depth 22\n",
      "744-th circuit: 2 qubits, 2 classical bits and 31 operations with depth 22\n",
      "745-th circuit: 2 qubits, 2 classical bits and 31 operations with depth 22\n",
      "746-th circuit: 2 qubits, 2 classical bits and 31 operations with depth 22\n",
      "747-th circuit: 2 qubits, 2 classical bits and 31 operations with depth 22\n",
      "748-th circuit: 2 qubits, 2 classical bits and 31 operations with depth 22\n",
      "749-th circuit: 2 qubits, 2 classical bits and 31 operations with depth 22\n",
      "750-th circuit: 2 qubits, 2 classical bits and 31 operations with depth 22\n",
      "751-th circuit: 2 qubits, 2 classical bits and 31 operations with depth 22\n",
      "752-th circuit: 2 qubits, 2 classical bits and 31 operations with depth 22\n",
      "753-th circuit: 2 qubits, 2 classical bits and 31 operations with depth 22\n",
      "754-th circuit: 2 qubits, 2 classical bits and 31 operations with depth 22\n",
      "755-th circuit: 2 qubits, 2 classical bits and 31 operations with depth 22\n",
      "756-th circuit: 2 qubits, 2 classical bits and 31 operations with depth 22\n",
      "757-th circuit: 2 qubits, 2 classical bits and 31 operations with depth 22\n",
      "758-th circuit: 2 qubits, 2 classical bits and 31 operations with depth 22\n",
      "759-th circuit: 2 qubits, 2 classical bits and 31 operations with depth 22\n",
      "760-th circuit: 2 qubits, 2 classical bits and 31 operations with depth 22\n",
      "761-th circuit: 2 qubits, 2 classical bits and 31 operations with depth 22\n",
      "762-th circuit: 2 qubits, 2 classical bits and 31 operations with depth 22\n",
      "763-th circuit: 2 qubits, 2 classical bits and 31 operations with depth 22\n",
      "764-th circuit: 2 qubits, 2 classical bits and 31 operations with depth 22\n",
      "765-th circuit: 2 qubits, 2 classical bits and 31 operations with depth 22\n",
      "766-th circuit: 2 qubits, 2 classical bits and 31 operations with depth 22\n",
      "767-th circuit: 2 qubits, 2 classical bits and 31 operations with depth 22\n",
      "768-th circuit: 2 qubits, 2 classical bits and 31 operations with depth 22\n",
      "769-th circuit: 2 qubits, 2 classical bits and 31 operations with depth 22\n",
      "770-th circuit: 2 qubits, 2 classical bits and 31 operations with depth 22\n",
      "771-th circuit: 2 qubits, 2 classical bits and 31 operations with depth 22\n",
      "772-th circuit: 2 qubits, 2 classical bits and 31 operations with depth 22\n",
      "773-th circuit: 2 qubits, 2 classical bits and 31 operations with depth 22\n",
      "774-th circuit: 2 qubits, 2 classical bits and 31 operations with depth 22\n",
      "775-th circuit: 2 qubits, 2 classical bits and 31 operations with depth 22\n",
      "776-th circuit: 2 qubits, 2 classical bits and 31 operations with depth 22\n",
      "777-th circuit: 2 qubits, 2 classical bits and 31 operations with depth 22\n",
      "778-th circuit: 2 qubits, 2 classical bits and 31 operations with depth 22\n",
      "779-th circuit: 2 qubits, 2 classical bits and 31 operations with depth 22\n",
      "Average: 2.00 qubits, 2.00 classical bits and 31.00 operations with depth 22.00\n",
      "============================================================================\n",
      "\n"
     ]
    },
    {
     "name": "stderr",
     "output_type": "stream",
     "text": [
      "2018-11-12 14:54:40,997:qiskit_aqua.utils.qpsolver:DEBUG: Solving QP problem is completed.\n"
     ]
    }
   ],
   "source": [
    "# builds circuits, runs them to find the kernel matrix\n",
    "# then solves quadratic programming to find the support vectors\n",
    "datapoints, class_to_label = split_dataset_to_data_and_labels(training_input)\n",
    "algorithm.train(data=datapoints[0], labels=datapoints[1])"
   ]
  },
  {
   "cell_type": "code",
   "execution_count": 9,
   "metadata": {
    "scrolled": true
   },
   "outputs": [
    {
     "data": {
      "image/png": "[encoded data removed]",
      "text/plain": [
       "<matplotlib.figure.Figure at 0x112ec6ba8>"
      ]
     },
     "metadata": {},
     "output_type": "display_data"
    }
   ],
   "source": [
    "# block diagonal pattern because in the data A comes first, then B\n",
    "# [[DARK, LIGHT], [LIGHT, DARK]] --> this means the kernel was good and could separate \n",
    "kernel_matrix = algorithm.ret['kernel_matrix_training']\n",
    "img = plt.imshow(np.asmatrix(kernel_matrix), interpolation='nearest',\n",
    "                 origin='upper', cmap='bone_r')\n",
    "plt.show()"
   ]
  },
  {
   "cell_type": "code",
   "execution_count": 10,
   "metadata": {},
   "outputs": [
    {
     "data": {
      "text/plain": [
       "{'alphas': array([2.7299008 , 3.74954164, 2.26207294, 2.50423762, 1.32442235,\n",
       "        4.17212636, 0.91258842, 4.3565115 , 2.92629769, 0.19526073]),\n",
       " 'bias': array([-0.05014158]),\n",
       " 'support_vectors': array([[0.9424778 , 1.0681415 ],\n",
       "        [4.39822972, 3.45575192],\n",
       "        [5.2150438 , 1.63362818],\n",
       "        [5.65486678, 0.37699112],\n",
       "        [2.57610598, 2.63893783],\n",
       "        [4.46106157, 5.2150438 ],\n",
       "        [1.88495559, 2.26194671],\n",
       "        [1.38230077, 4.1469023 ],\n",
       "        [6.1575216 , 5.02654825],\n",
       "        [0.06283185, 2.82743339]]),\n",
       " 'yin': array([-1., -1., -1., -1., -1.,  1.,  1.,  1.,  1.,  1.])}"
      ]
     },
     "execution_count": 10,
     "metadata": {},
     "output_type": "execute_result"
    }
   ],
   "source": [
    "# support vectors\n",
    "algorithm.ret['svm']"
   ]
  },
  {
   "cell_type": "markdown",
   "metadata": {},
   "source": [
    "### 1. (e) Test and Determine Accuracy"
   ]
  },
  {
   "cell_type": "code",
   "execution_count": 11,
   "metadata": {},
   "outputs": [
    {
     "name": "stderr",
     "output_type": "stream",
     "text": [
      "2018-11-12 14:55:15,277:qiskit_aqua.algorithms.many_sample.qsvm.qsvm_kernel_binary:DEBUG: Classification success for this set is 100.00% \n",
      "\n"
     ]
    },
    {
     "data": {
      "text/plain": [
       "1.0"
      ]
     },
     "execution_count": 11,
     "metadata": {},
     "output_type": "execute_result"
    }
   ],
   "source": [
    "# take Support Vector that were found, and then use those to classify the new test data\n",
    "datapoints, class_to_label = split_dataset_to_data_and_labels(test_input)\n",
    "algorithm.disable_circuit_summary()\n",
    "algorithm.test(data=datapoints[0], labels=datapoints[1])"
   ]
  },
  {
   "cell_type": "code",
   "execution_count": 12,
   "metadata": {},
   "outputs": [
    {
     "data": {
      "image/png": "[encoded data removed]",
      "text/plain": [
       "<matplotlib.figure.Figure at 0x1137a51d0>"
      ]
     },
     "metadata": {},
     "output_type": "display_data"
    }
   ],
   "source": [
    "kernel_matrix_testing = algorithm.ret['kernel_matrix_testing']\n",
    "img = plt.imshow(np.asmatrix(kernel_matrix_testing), interpolation='nearest',\n",
    "                 origin='upper', cmap='bone_r')\n",
    "plt.show()"
   ]
  },
  {
   "cell_type": "code",
   "execution_count": 13,
   "metadata": {},
   "outputs": [
    {
     "data": {
      "text/plain": [
       "1.0"
      ]
     },
     "execution_count": 13,
     "metadata": {},
     "output_type": "execute_result"
    }
   ],
   "source": [
    "algorithm.ret['testing_accuracy']"
   ]
  },
  {
   "cell_type": "markdown",
   "metadata": {},
   "source": [
    "### [optional] Circuits for Finding Inner Products"
   ]
  },
  {
   "cell_type": "code",
   "execution_count": 14,
   "metadata": {},
   "outputs": [
    {
     "data": {
      "image/png": "[encoded data removed]",
      "text/plain": [
       "<matplotlib.figure.Figure at 0x112cc9da0>"
      ]
     },
     "metadata": {},
     "output_type": "display_data"
    }
   ],
   "source": [
    "# concatenate with the inverse circuit to get expectation value\n",
    "from qiskit import QuantumCircuit\n",
    "inv_circuit = QuantumCircuit()\n",
    "inv_circuit.data = [x.inverse() for x in reversed(circuit.data)]\n",
    "circuit_drawer(circuit + inv_circuit, output='mpl')"
   ]
  },
  {
   "cell_type": "markdown",
   "metadata": {},
   "source": [
    "### 2. The breast Cancer Dataset\n",
    "Now we run our algorithm with the real-world dataset: the breast cancer dataset, we use the first two principal componenets as features."
   ]
  },
  {
   "cell_type": "code",
   "execution_count": 15,
   "metadata": {},
   "outputs": [
    {
     "data": {
      "image/png": "[encoded data removed]",
      "text/plain": [
       "<matplotlib.figure.Figure at 0x112ebc898>"
      ]
     },
     "metadata": {},
     "output_type": "display_data"
    },
    {
     "name": "stdout",
     "output_type": "stream",
     "text": [
      "{'A': 0, 'B': 1} {0: 'A', 1: 'B'}\n"
     ]
    }
   ],
   "source": [
    "set_logging_config(build_logging_config(logging.DEBUG))  # choose INFO, DEBUG to see the log\n",
    "feature_dim = 2\n",
    "sample_Total, training_input, test_input, class_labels = Breast_cancer(\n",
    "    training_size=20, test_size=10, n=feature_dim, PLOT_DATA=True)\n",
    "\n",
    "datapoints, class_to_label = split_dataset_to_data_and_labels(test_input)\n",
    "label_to_class = {label:class_name for class_name, label in class_to_label.items()}\n",
    "print(class_to_label, label_to_class)"
   ]
  },
  {
   "cell_type": "code",
   "execution_count": 16,
   "metadata": {
    "collapsed": true
   },
   "outputs": [],
   "source": [
    "set_logging_config(build_logging_config(logging.INFO))  # choose INFO, DEBUG to see the log\n",
    "\n",
    "params = {\n",
    "    'problem': {'name': 'svm_classification', 'random_seed': 10598},\n",
    "    'algorithm': {\n",
    "        'name': 'QSVM.Kernel'\n",
    "    },\n",
    "    'backend': {'name': 'qasm_simulator', 'shots': 1024},\n",
    "    'feature_map': {'name': 'SecondOrderExpansion', 'depth': 2, 'entanglement': 'linear'}\n",
    "}"
   ]
  },
  {
   "cell_type": "code",
   "execution_count": 17,
   "metadata": {
    "scrolled": false
   },
   "outputs": [
    {
     "name": "stderr",
     "output_type": "stream",
     "text": [
      "2018-11-12 14:55:55,700:qiskit_aqua.quantumalgorithm:INFO: Qiskit Terra version 0.7.0\n",
      "2018-11-12 14:55:55,701:qiskit_aqua.quantumalgorithm:INFO: Algorithm: 'QSVM.Kernel' setup with backend 'qasm_simulator', with following setting:\n",
      " {'shots': 1024, 'skip_transpiler': False, 'config': {'noise_params': None}, 'basis_gates': 'u0,u1,u2,u3,cx,cz,id,x,y,z,h,s,sdg,t,tdg,rzz,snapshot,wait,noise,save,load', 'coupling_map': 'all-to-all', 'initial_layout': None, 'max_credits': 10, 'seed': 10598, 'qobj_id': None, 'hpc': None}\n",
      "{'timeout': None}\n",
      "2018-11-12 14:55:55,703:qiskit_aqua.algorithms.components.feature_maps.pauli_expansion:INFO: Pauli terms include: ['ZI', 'IZ', 'ZZ']\n"
     ]
    },
    {
     "name": "stdout",
     "output_type": "stream",
     "text": [
      "testing success ratio:  0.8\n",
      "ground truth: ['A', 'A', 'A', 'A', 'A', 'A', 'A', 'A', 'A', 'A', 'B', 'B', 'B', 'B', 'B', 'B', 'B', 'B', 'B', 'B']\n",
      "predicted:    ['A', 'A', 'A', 'A', 'A', 'A', 'B', 'B', 'A', 'B', 'B', 'B', 'B', 'B', 'B', 'B', 'B', 'A', 'B', 'B']\n"
     ]
    }
   ],
   "source": [
    "algo_input = get_input_instance('SVMInput')\n",
    "algo_input.training_dataset  = training_input\n",
    "algo_input.test_dataset = test_input\n",
    "algo_input.datapoints = datapoints[0]\n",
    "result = run_algorithm(params, algo_input)\n",
    "print(\"testing success ratio: \", result['testing_accuracy'])\n",
    "print(\"ground truth: {}\".format(map_label_to_class_name(datapoints[1], label_to_class)))\n",
    "print(\"predicted:    {}\".format(result['predicted_classes']))"
   ]
  },
  {
   "cell_type": "code",
   "execution_count": 18,
   "metadata": {},
   "outputs": [
    {
     "name": "stdout",
     "output_type": "stream",
     "text": [
      "kernel matrix during the training:\n"
     ]
    },
    {
     "data": {
      "image/png": "[encoded data removed]",
      "text/plain": [
       "<matplotlib.figure.Figure at 0x112fe6390>"
      ]
     },
     "metadata": {},
     "output_type": "display_data"
    }
   ],
   "source": [
    "print(\"kernel matrix during the training:\")\n",
    "kernel_matrix = result['kernel_matrix_training']\n",
    "img = plt.imshow(np.asmatrix(kernel_matrix),interpolation='nearest',origin='upper',cmap='bone_r')\n",
    "plt.show()"
   ]
  },
  {
   "cell_type": "code",
   "execution_count": null,
   "metadata": {
    "collapsed": true
   },
   "outputs": [],
   "source": []
  }
 ],
 "metadata": {
  "kernelspec": {
   "display_name": "Python 3",
   "language": "python",
   "name": "python3"
  },
  "language_info": {
   "codemirror_mode": {
    "name": "ipython",
    "version": 3
   },
   "file_extension": ".py",
   "mimetype": "text/x-python",
   "name": "python",
   "nbconvert_exporter": "python",
   "pygments_lexer": "ipython3",
   "version": "3.6.3"
  }
 },
 "nbformat": 4,
 "nbformat_minor": 1
}
